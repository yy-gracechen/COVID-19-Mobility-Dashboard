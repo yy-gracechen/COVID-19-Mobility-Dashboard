{
  "nbformat": 4,
  "nbformat_minor": 0,
  "metadata": {
    "colab": {
      "name": "regression_analysis.ipynb",
      "provenance": []
    },
    "kernelspec": {
      "name": "python3",
      "display_name": "Python 3"
    },
    "accelerator": "GPU"
  },
  "cells": [
    {
      "cell_type": "code",
      "metadata": {
        "id": "CnzLqf_PX7-d"
      },
      "source": [
        "import numpy as np\n",
        "import pandas as pd\n",
        "import datetime\n",
        "import matplotlib.pyplot as plt\n",
        "import matplotlib.dates as mdates"
      ],
      "execution_count": 3,
      "outputs": []
    },
    {
      "cell_type": "markdown",
      "metadata": {
        "id": "QynCvgccYBSV"
      },
      "source": [
        "# COVID-19 Cases Data\n",
        "Load and prepare COVID-19 cases data taken from [*The New York Times*](https://https://github.com/nytimes/covid-19-data). Calculate case growth ratio for any county *c* on a day *t* where *c* is the number of new cases reported in that county on that day. And graph case growth ratios.\n",
        "\n",
        "\n",
        "![eq1.png](data:image/png;base64,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)\n",
        "\n",
        "\n",
        "\n",
        "\n",
        "\n",
        "\n"
      ]
    },
    {
      "cell_type": "markdown",
      "metadata": {
        "id": "JdJYGtDJJcFN"
      },
      "source": [
        "## Load and Clean Data"
      ]
    },
    {
      "cell_type": "code",
      "metadata": {
        "id": "vre6TYooYA7B",
        "colab": {
          "base_uri": "https://localhost:8080/",
          "height": 204
        },
        "outputId": "f1be73e4-487c-446a-f20f-777cb397ddbc"
      },
      "source": [
        "cases_url = \"./data/nyt_covid_dataset.csv\"\n",
        "df_cases = pd.read_csv(cases_url, parse_dates=[0])\n",
        "df_cases.tail()"
      ],
      "execution_count": 4,
      "outputs": [
        {
          "output_type": "execute_result",
          "data": {
            "text/html": [
              "<div>\n",
              "<style scoped>\n",
              "    .dataframe tbody tr th:only-of-type {\n",
              "        vertical-align: middle;\n",
              "    }\n",
              "\n",
              "    .dataframe tbody tr th {\n",
              "        vertical-align: top;\n",
              "    }\n",
              "\n",
              "    .dataframe thead th {\n",
              "        text-align: right;\n",
              "    }\n",
              "</style>\n",
              "<table border=\"1\" class=\"dataframe\">\n",
              "  <thead>\n",
              "    <tr style=\"text-align: right;\">\n",
              "      <th></th>\n",
              "      <th>date</th>\n",
              "      <th>county</th>\n",
              "      <th>state</th>\n",
              "      <th>fips</th>\n",
              "      <th>cases</th>\n",
              "      <th>deaths</th>\n",
              "    </tr>\n",
              "  </thead>\n",
              "  <tbody>\n",
              "    <tr>\n",
              "      <th>907533</th>\n",
              "      <td>2021-01-07</td>\n",
              "      <td>Sweetwater</td>\n",
              "      <td>Wyoming</td>\n",
              "      <td>56037.0</td>\n",
              "      <td>3108</td>\n",
              "      <td>24.0</td>\n",
              "    </tr>\n",
              "    <tr>\n",
              "      <th>907534</th>\n",
              "      <td>2021-01-07</td>\n",
              "      <td>Teton</td>\n",
              "      <td>Wyoming</td>\n",
              "      <td>56039.0</td>\n",
              "      <td>2260</td>\n",
              "      <td>4.0</td>\n",
              "    </tr>\n",
              "    <tr>\n",
              "      <th>907535</th>\n",
              "      <td>2021-01-07</td>\n",
              "      <td>Uinta</td>\n",
              "      <td>Wyoming</td>\n",
              "      <td>56041.0</td>\n",
              "      <td>1668</td>\n",
              "      <td>8.0</td>\n",
              "    </tr>\n",
              "    <tr>\n",
              "      <th>907536</th>\n",
              "      <td>2021-01-07</td>\n",
              "      <td>Washakie</td>\n",
              "      <td>Wyoming</td>\n",
              "      <td>56043.0</td>\n",
              "      <td>793</td>\n",
              "      <td>21.0</td>\n",
              "    </tr>\n",
              "    <tr>\n",
              "      <th>907537</th>\n",
              "      <td>2021-01-07</td>\n",
              "      <td>Weston</td>\n",
              "      <td>Wyoming</td>\n",
              "      <td>56045.0</td>\n",
              "      <td>483</td>\n",
              "      <td>4.0</td>\n",
              "    </tr>\n",
              "  </tbody>\n",
              "</table>\n",
              "</div>"
            ],
            "text/plain": [
              "             date      county    state     fips  cases  deaths\n",
              "907533 2021-01-07  Sweetwater  Wyoming  56037.0   3108    24.0\n",
              "907534 2021-01-07       Teton  Wyoming  56039.0   2260     4.0\n",
              "907535 2021-01-07       Uinta  Wyoming  56041.0   1668     8.0\n",
              "907536 2021-01-07    Washakie  Wyoming  56043.0    793    21.0\n",
              "907537 2021-01-07      Weston  Wyoming  56045.0    483     4.0"
            ]
          },
          "metadata": {
            "tags": []
          },
          "execution_count": 4
        }
      ]
    },
    {
      "cell_type": "code",
      "metadata": {
        "colab": {
          "base_uri": "https://localhost:8080/"
        },
        "id": "KFCcwP4tOrqW",
        "outputId": "3a39ce03-d6f8-485b-d518-54a09168491e"
      },
      "source": [
        "# only keep data in the year 2020\n",
        "df_cases = df_cases[df_cases['date'] <= '2020-12-31']\n",
        "df_cases.info()"
      ],
      "execution_count": 5,
      "outputs": [
        {
          "output_type": "stream",
          "text": [
            "<class 'pandas.core.frame.DataFrame'>\n",
            "Int64Index: 884817 entries, 0 to 884816\n",
            "Data columns (total 6 columns):\n",
            " #   Column  Non-Null Count   Dtype         \n",
            "---  ------  --------------   -----         \n",
            " 0   date    884817 non-null  datetime64[ns]\n",
            " 1   county  884817 non-null  object        \n",
            " 2   state   884817 non-null  object        \n",
            " 3   fips    876510 non-null  float64       \n",
            " 4   cases   884817 non-null  int64         \n",
            " 5   deaths  866056 non-null  float64       \n",
            "dtypes: datetime64[ns](1), float64(2), int64(1), object(2)\n",
            "memory usage: 47.3+ MB\n"
          ],
          "name": "stdout"
        }
      ]
    },
    {
      "cell_type": "markdown",
      "metadata": {
        "id": "JCQto58wMX4f"
      },
      "source": [
        "### Fix metropolitan areas"
      ]
    },
    {
      "cell_type": "markdown",
      "metadata": {
        "id": "s2PlG498fkDp"
      },
      "source": [
        "Count which counties have null FIPs. Note that some cases do not have a county assigned to them because the data scientists that collected the data are not sure exactly which county the positive tests came from. Other rows that have a null FIPs identification, such as New York City and Kansas City, are an amalagation of several counties into one metropolitan area."
      ]
    },
    {
      "cell_type": "markdown",
      "metadata": {
        "id": "ddRvoEmekXXv"
      },
      "source": [
        "Let's give these metropolitan areas FIPs codes. \\\\\n",
        "Rhode Island: 44002 \\\\\n",
        "New York City: 36061 \\\\\n",
        "Kansas City: 29095 \\\\\n",
        "Joplin: 29375"
      ]
    },
    {
      "cell_type": "code",
      "metadata": {
        "id": "qPNiECUhjY9S",
        "colab": {
          "base_uri": "https://localhost:8080/",
          "height": 419
        },
        "outputId": "93a7d5ae-fcbd-4b69-daad-bac9b1c567f7"
      },
      "source": [
        "df_cases.loc[((df_cases['county'] == 'Unknown') & (df_cases['state'] == 'Rhode Island')), 'fips'] = 44002\n",
        "df_cases.loc[df_cases['county'] == 'New York City', 'fips'] = 36061\n",
        "df_cases.loc[df_cases['county'] == 'Kansas City', 'fips'] = 29095\n",
        "df_cases.loc[df_cases['county'] == 'Joplin', 'fips'] = 29375\n",
        "df_cases.shape\n",
        "df_cases[df_cases['county'] == 'New York City']"
      ],
      "execution_count": 6,
      "outputs": [
        {
          "output_type": "execute_result",
          "data": {
            "text/html": [
              "<div>\n",
              "<style scoped>\n",
              "    .dataframe tbody tr th:only-of-type {\n",
              "        vertical-align: middle;\n",
              "    }\n",
              "\n",
              "    .dataframe tbody tr th {\n",
              "        vertical-align: top;\n",
              "    }\n",
              "\n",
              "    .dataframe thead th {\n",
              "        text-align: right;\n",
              "    }\n",
              "</style>\n",
              "<table border=\"1\" class=\"dataframe\">\n",
              "  <thead>\n",
              "    <tr style=\"text-align: right;\">\n",
              "      <th></th>\n",
              "      <th>date</th>\n",
              "      <th>county</th>\n",
              "      <th>state</th>\n",
              "      <th>fips</th>\n",
              "      <th>cases</th>\n",
              "      <th>deaths</th>\n",
              "    </tr>\n",
              "  </thead>\n",
              "  <tbody>\n",
              "    <tr>\n",
              "      <th>416</th>\n",
              "      <td>2020-03-01</td>\n",
              "      <td>New York City</td>\n",
              "      <td>New York</td>\n",
              "      <td>36061.0</td>\n",
              "      <td>1</td>\n",
              "      <td>0.0</td>\n",
              "    </tr>\n",
              "    <tr>\n",
              "      <th>448</th>\n",
              "      <td>2020-03-02</td>\n",
              "      <td>New York City</td>\n",
              "      <td>New York</td>\n",
              "      <td>36061.0</td>\n",
              "      <td>1</td>\n",
              "      <td>0.0</td>\n",
              "    </tr>\n",
              "    <tr>\n",
              "      <th>482</th>\n",
              "      <td>2020-03-03</td>\n",
              "      <td>New York City</td>\n",
              "      <td>New York</td>\n",
              "      <td>36061.0</td>\n",
              "      <td>2</td>\n",
              "      <td>0.0</td>\n",
              "    </tr>\n",
              "    <tr>\n",
              "      <th>518</th>\n",
              "      <td>2020-03-04</td>\n",
              "      <td>New York City</td>\n",
              "      <td>New York</td>\n",
              "      <td>36061.0</td>\n",
              "      <td>2</td>\n",
              "      <td>0.0</td>\n",
              "    </tr>\n",
              "    <tr>\n",
              "      <th>565</th>\n",
              "      <td>2020-03-05</td>\n",
              "      <td>New York City</td>\n",
              "      <td>New York</td>\n",
              "      <td>36061.0</td>\n",
              "      <td>4</td>\n",
              "      <td>0.0</td>\n",
              "    </tr>\n",
              "    <tr>\n",
              "      <th>...</th>\n",
              "      <td>...</td>\n",
              "      <td>...</td>\n",
              "      <td>...</td>\n",
              "      <td>...</td>\n",
              "      <td>...</td>\n",
              "      <td>...</td>\n",
              "    </tr>\n",
              "    <tr>\n",
              "      <th>870465</th>\n",
              "      <td>2020-12-27</td>\n",
              "      <td>New York City</td>\n",
              "      <td>New York</td>\n",
              "      <td>36061.0</td>\n",
              "      <td>413472</td>\n",
              "      <td>24973.0</td>\n",
              "    </tr>\n",
              "    <tr>\n",
              "      <th>873710</th>\n",
              "      <td>2020-12-28</td>\n",
              "      <td>New York City</td>\n",
              "      <td>New York</td>\n",
              "      <td>36061.0</td>\n",
              "      <td>416922</td>\n",
              "      <td>25008.0</td>\n",
              "    </tr>\n",
              "    <tr>\n",
              "      <th>876955</th>\n",
              "      <td>2020-12-29</td>\n",
              "      <td>New York City</td>\n",
              "      <td>New York</td>\n",
              "      <td>36061.0</td>\n",
              "      <td>422074</td>\n",
              "      <td>25055.0</td>\n",
              "    </tr>\n",
              "    <tr>\n",
              "      <th>880200</th>\n",
              "      <td>2020-12-30</td>\n",
              "      <td>New York City</td>\n",
              "      <td>New York</td>\n",
              "      <td>36061.0</td>\n",
              "      <td>426279</td>\n",
              "      <td>25099.0</td>\n",
              "    </tr>\n",
              "    <tr>\n",
              "      <th>883445</th>\n",
              "      <td>2020-12-31</td>\n",
              "      <td>New York City</td>\n",
              "      <td>New York</td>\n",
              "      <td>36061.0</td>\n",
              "      <td>430863</td>\n",
              "      <td>25144.0</td>\n",
              "    </tr>\n",
              "  </tbody>\n",
              "</table>\n",
              "<p>306 rows × 6 columns</p>\n",
              "</div>"
            ],
            "text/plain": [
              "             date         county     state     fips   cases   deaths\n",
              "416    2020-03-01  New York City  New York  36061.0       1      0.0\n",
              "448    2020-03-02  New York City  New York  36061.0       1      0.0\n",
              "482    2020-03-03  New York City  New York  36061.0       2      0.0\n",
              "518    2020-03-04  New York City  New York  36061.0       2      0.0\n",
              "565    2020-03-05  New York City  New York  36061.0       4      0.0\n",
              "...           ...            ...       ...      ...     ...      ...\n",
              "870465 2020-12-27  New York City  New York  36061.0  413472  24973.0\n",
              "873710 2020-12-28  New York City  New York  36061.0  416922  25008.0\n",
              "876955 2020-12-29  New York City  New York  36061.0  422074  25055.0\n",
              "880200 2020-12-30  New York City  New York  36061.0  426279  25099.0\n",
              "883445 2020-12-31  New York City  New York  36061.0  430863  25144.0\n",
              "\n",
              "[306 rows x 6 columns]"
            ]
          },
          "metadata": {
            "tags": []
          },
          "execution_count": 6
        }
      ]
    },
    {
      "cell_type": "markdown",
      "metadata": {
        "id": "GXvL5s0gMcke"
      },
      "source": [
        "### Remove unusable data from dataset"
      ]
    },
    {
      "cell_type": "markdown",
      "metadata": {
        "id": "ebCdQ9KUKeth"
      },
      "source": [
        "Remove all U.S. territories from the dataset."
      ]
    },
    {
      "cell_type": "code",
      "metadata": {
        "colab": {
          "base_uri": "https://localhost:8080/",
          "height": 49
        },
        "id": "rSKR0X9xsBEG",
        "outputId": "25cbbc0b-6461-48ba-d7f2-59c16a92452e"
      },
      "source": [
        "# drop Guam, Virgin Islands, Puerto Rico, and Northern Mariana Islands\n",
        "territories = ['Guam', 'Virgin Islands', 'Puerto Rico', 'Northern Mariana Islands']\n",
        "df_cases = df_cases[~df_cases['state'].isin(territories)]\n",
        "df_cases[df_cases['state'] == 'Northern Mariana Islands']"
      ],
      "execution_count": 7,
      "outputs": [
        {
          "output_type": "execute_result",
          "data": {
            "text/html": [
              "<div>\n",
              "<style scoped>\n",
              "    .dataframe tbody tr th:only-of-type {\n",
              "        vertical-align: middle;\n",
              "    }\n",
              "\n",
              "    .dataframe tbody tr th {\n",
              "        vertical-align: top;\n",
              "    }\n",
              "\n",
              "    .dataframe thead th {\n",
              "        text-align: right;\n",
              "    }\n",
              "</style>\n",
              "<table border=\"1\" class=\"dataframe\">\n",
              "  <thead>\n",
              "    <tr style=\"text-align: right;\">\n",
              "      <th></th>\n",
              "      <th>date</th>\n",
              "      <th>county</th>\n",
              "      <th>state</th>\n",
              "      <th>fips</th>\n",
              "      <th>cases</th>\n",
              "      <th>deaths</th>\n",
              "    </tr>\n",
              "  </thead>\n",
              "  <tbody>\n",
              "  </tbody>\n",
              "</table>\n",
              "</div>"
            ],
            "text/plain": [
              "Empty DataFrame\n",
              "Columns: [date, county, state, fips, cases, deaths]\n",
              "Index: []"
            ]
          },
          "metadata": {
            "tags": []
          },
          "execution_count": 7
        }
      ]
    },
    {
      "cell_type": "markdown",
      "metadata": {
        "id": "UiQjqTcAKkmQ"
      },
      "source": [
        "Look at the remaining rows with null fips and no known county. This data cannot be used."
      ]
    },
    {
      "cell_type": "code",
      "metadata": {
        "id": "NK2ZrqPMfQ-m",
        "colab": {
          "base_uri": "https://localhost:8080/"
        },
        "outputId": "036628f4-a464-44ba-9580-f8d913c05f10"
      },
      "source": [
        "null_rows = df_cases[df_cases['fips'].isnull()]\n",
        "print(\"Rows without a known county\")\n",
        "print(\"---------------------------\")\n",
        "print(null_rows.head())\n",
        "print(\"...\")\n",
        "print(null_rows.tail())\n",
        "print()\n",
        "\n",
        "print(\"earliest date: \" + np.str(min(null_rows['date'])) + \"     latest date: \" + np.str(max(null_rows['date'])))\n",
        "print()\n",
        "\n",
        "print(\"Table of dates after April 1st\")\n",
        "print(\"------------------------------\")\n",
        "print(null_rows[null_rows['date'] > '2020-04-01']['state'].value_counts())\n",
        "print()\n",
        "\n",
        "null_rows_bystate = null_rows.groupby(['state', 'county']).agg({'cases': 'max', 'deaths': 'max'}).reset_index()\n",
        "print(\"Rows without a known county by state\")\n",
        "print(\"------------------------------------\")\n",
        "print(null_rows_bystate)\n",
        "print(\"total number of cases unaccounted: \" + str(null_rows_bystate['cases'].sum()))"
      ],
      "execution_count": 8,
      "outputs": [
        {
          "output_type": "stream",
          "text": [
            "Rows without a known county\n",
            "---------------------------\n",
            "           date   county       state  fips  cases  deaths\n",
            "1511 2020-03-12  Unknown  New Jersey   NaN      1     0.0\n",
            "1804 2020-03-13  Unknown  New Jersey   NaN      1     0.0\n",
            "2151 2020-03-14  Unknown  New Jersey   NaN      1     0.0\n",
            "2559 2020-03-15  Unknown  New Jersey   NaN      1     0.0\n",
            "2929 2020-03-16  Unknown       Maine   NaN      1     0.0\n",
            "...\n",
            "             date   county         state  fips  cases  deaths\n",
            "883624 2020-12-31  Unknown  North Dakota   NaN      7     7.0\n",
            "883791 2020-12-31  Unknown      Oklahoma   NaN    236     0.0\n",
            "884184 2020-12-31  Unknown     Tennessee   NaN   6903    59.0\n",
            "884471 2020-12-31  Unknown          Utah   NaN    430     2.0\n",
            "884488 2020-12-31  Unknown       Vermont   NaN      9     0.0\n",
            "\n",
            "earliest date: 2020-03-12 00:00:00     latest date: 2020-12-31 00:00:00\n",
            "\n",
            "Table of dates after April 1st\n",
            "------------------------------\n",
            "Connecticut       274\n",
            "Vermont           274\n",
            "Arkansas          274\n",
            "Louisiana         274\n",
            "Massachusetts     274\n",
            "New Jersey        274\n",
            "Georgia           273\n",
            "Minnesota         272\n",
            "Michigan          271\n",
            "Florida           270\n",
            "Utah              269\n",
            "Delaware          264\n",
            "Maryland          262\n",
            "Iowa              244\n",
            "New Hampshire     237\n",
            "Alaska            223\n",
            "Maine             220\n",
            "North Dakota      219\n",
            "Tennessee         199\n",
            "Illinois          190\n",
            "Nebraska          184\n",
            "Washington        163\n",
            "Oklahoma          142\n",
            "Wisconsin         133\n",
            "Kansas            103\n",
            "Colorado           53\n",
            "Nevada             43\n",
            "New Mexico         38\n",
            "Kentucky           30\n",
            "Virginia           27\n",
            "Missouri           25\n",
            "Arizona            25\n",
            "Hawaii             20\n",
            "Mississippi         9\n",
            "Idaho               9\n",
            "California          6\n",
            "New York            6\n",
            "South Dakota        5\n",
            "Wyoming             4\n",
            "Ohio                4\n",
            "Indiana             4\n",
            "South Carolina      3\n",
            "Pennsylvania        1\n",
            "Oregon              1\n",
            "West Virginia       1\n",
            "Name: state, dtype: int64\n",
            "\n",
            "Rows without a known county by state\n",
            "------------------------------------\n",
            "             state   county  cases  deaths\n",
            "0           Alaska  Unknown    353     1.0\n",
            "1          Arizona  Unknown      3    12.0\n",
            "2         Arkansas  Unknown   3135     1.0\n",
            "3       California  Unknown      2     2.0\n",
            "4         Colorado  Unknown    273     3.0\n",
            "5      Connecticut  Unknown   1144     7.0\n",
            "6         Delaware  Unknown    493     1.0\n",
            "7          Florida  Unknown   3179    34.0\n",
            "8          Georgia  Unknown   3623    23.0\n",
            "9           Hawaii  Unknown     20     2.0\n",
            "10           Idaho  Unknown    471     0.0\n",
            "11        Illinois  Unknown  12048   292.0\n",
            "12         Indiana  Unknown      2     0.0\n",
            "13            Iowa  Unknown    753     5.0\n",
            "14          Kansas  Unknown      0   439.0\n",
            "15        Kentucky  Unknown     77     7.0\n",
            "16       Louisiana  Unknown   6957   234.0\n",
            "17           Maine  Unknown     26     1.0\n",
            "18        Maryland  Unknown     34   135.0\n",
            "19   Massachusetts  Unknown  16810   103.0\n",
            "20        Michigan  Unknown   7105    37.0\n",
            "21       Minnesota  Unknown    799    60.0\n",
            "22     Mississippi  Unknown    381     5.0\n",
            "23        Missouri  Unknown    153     0.0\n",
            "24         Montana  Unknown      0     1.0\n",
            "25        Nebraska  Unknown    645     4.0\n",
            "26          Nevada  Unknown    269    12.0\n",
            "27   New Hampshire  Unknown    883     1.0\n",
            "28      New Jersey  Unknown   4866    91.0\n",
            "29      New Mexico  Unknown    202     6.0\n",
            "30        New York  Unknown      0  1170.0\n",
            "31    North Dakota  Unknown   2346    42.0\n",
            "32            Ohio  Unknown   1301    27.0\n",
            "33        Oklahoma  Unknown    236     1.0\n",
            "34          Oregon  Unknown      1     0.0\n",
            "35    Pennsylvania  Unknown     18     1.0\n",
            "36  South Carolina  Unknown      0     2.0\n",
            "37    South Dakota  Unknown     56     4.0\n",
            "38       Tennessee  Unknown   7679    59.0\n",
            "39           Texas  Unknown      0     1.0\n",
            "40            Utah  Unknown   1247    15.0\n",
            "41         Vermont  Unknown     26    16.0\n",
            "42        Virginia  Unknown     35   114.0\n",
            "43      Washington  Unknown    815     2.0\n",
            "44   West Virginia  Unknown      2     1.0\n",
            "45       Wisconsin  Unknown   4469    14.0\n",
            "46         Wyoming  Unknown     30     0.0\n",
            "total number of cases unaccounted: 82967\n"
          ],
          "name": "stdout"
        }
      ]
    },
    {
      "cell_type": "code",
      "metadata": {
        "id": "48F9z-rdWbiX"
      },
      "source": [
        "df_cases = df_cases.dropna(axis=0, how='any')"
      ],
      "execution_count": 9,
      "outputs": []
    },
    {
      "cell_type": "markdown",
      "metadata": {
        "id": "AoFXk7naMkcl"
      },
      "source": [
        "### Fix FIPS codes"
      ]
    },
    {
      "cell_type": "code",
      "metadata": {
        "id": "tMn7iQoDMmoL"
      },
      "source": [
        "df_cases['fips'] = df_cases['fips'].astype(np.int64)\n",
        "df_cases['fips'] = df_cases['fips'].astype(np.str)\n",
        "df_cases['fips'] = df_cases['fips'].str.zfill(5)"
      ],
      "execution_count": 10,
      "outputs": []
    },
    {
      "cell_type": "markdown",
      "metadata": {
        "id": "cZdFky_QM1lK"
      },
      "source": [
        "## Calculate Growth Ratios"
      ]
    },
    {
      "cell_type": "code",
      "metadata": {
        "colab": {
          "base_uri": "https://localhost:8080/",
          "height": 700
        },
        "id": "2hPlHxEo9mS4",
        "outputId": "f280418a-1fd8-4e41-8096-38d20f9b0031"
      },
      "source": [
        "# compute new cases per day\n",
        "df_cases['new_cases'] = df_cases.groupby('fips', as_index=False)['cases'].diff()\n",
        "df_cases = df_cases[(df_cases['new_cases'].notna())]\n",
        "df_cases[(df_cases['fips'] == '01001') & (df_cases['new_cases'] == 0)]"
      ],
      "execution_count": 11,
      "outputs": [
        {
          "output_type": "execute_result",
          "data": {
            "text/html": [
              "<div>\n",
              "<style scoped>\n",
              "    .dataframe tbody tr th:only-of-type {\n",
              "        vertical-align: middle;\n",
              "    }\n",
              "\n",
              "    .dataframe tbody tr th {\n",
              "        vertical-align: top;\n",
              "    }\n",
              "\n",
              "    .dataframe thead th {\n",
              "        text-align: right;\n",
              "    }\n",
              "</style>\n",
              "<table border=\"1\" class=\"dataframe\">\n",
              "  <thead>\n",
              "    <tr style=\"text-align: right;\">\n",
              "      <th></th>\n",
              "      <th>date</th>\n",
              "      <th>county</th>\n",
              "      <th>state</th>\n",
              "      <th>fips</th>\n",
              "      <th>cases</th>\n",
              "      <th>deaths</th>\n",
              "      <th>new_cases</th>\n",
              "    </tr>\n",
              "  </thead>\n",
              "  <tbody>\n",
              "    <tr>\n",
              "      <th>14025</th>\n",
              "      <td>2020-03-27</td>\n",
              "      <td>Autauga</td>\n",
              "      <td>Alabama</td>\n",
              "      <td>01001</td>\n",
              "      <td>6</td>\n",
              "      <td>0.0</td>\n",
              "      <td>0.0</td>\n",
              "    </tr>\n",
              "    <tr>\n",
              "      <th>15803</th>\n",
              "      <td>2020-03-28</td>\n",
              "      <td>Autauga</td>\n",
              "      <td>Alabama</td>\n",
              "      <td>01001</td>\n",
              "      <td>6</td>\n",
              "      <td>0.0</td>\n",
              "      <td>0.0</td>\n",
              "    </tr>\n",
              "    <tr>\n",
              "      <th>17686</th>\n",
              "      <td>2020-03-29</td>\n",
              "      <td>Autauga</td>\n",
              "      <td>Alabama</td>\n",
              "      <td>01001</td>\n",
              "      <td>6</td>\n",
              "      <td>0.0</td>\n",
              "      <td>0.0</td>\n",
              "    </tr>\n",
              "    <tr>\n",
              "      <th>21727</th>\n",
              "      <td>2020-03-31</td>\n",
              "      <td>Autauga</td>\n",
              "      <td>Alabama</td>\n",
              "      <td>01001</td>\n",
              "      <td>7</td>\n",
              "      <td>0.0</td>\n",
              "      <td>0.0</td>\n",
              "    </tr>\n",
              "    <tr>\n",
              "      <th>26101</th>\n",
              "      <td>2020-04-02</td>\n",
              "      <td>Autauga</td>\n",
              "      <td>Alabama</td>\n",
              "      <td>01001</td>\n",
              "      <td>10</td>\n",
              "      <td>0.0</td>\n",
              "      <td>0.0</td>\n",
              "    </tr>\n",
              "    <tr>\n",
              "      <th>30753</th>\n",
              "      <td>2020-04-04</td>\n",
              "      <td>Autauga</td>\n",
              "      <td>Alabama</td>\n",
              "      <td>01001</td>\n",
              "      <td>12</td>\n",
              "      <td>0.0</td>\n",
              "      <td>0.0</td>\n",
              "    </tr>\n",
              "    <tr>\n",
              "      <th>33157</th>\n",
              "      <td>2020-04-05</td>\n",
              "      <td>Autauga</td>\n",
              "      <td>Alabama</td>\n",
              "      <td>01001</td>\n",
              "      <td>12</td>\n",
              "      <td>0.0</td>\n",
              "      <td>0.0</td>\n",
              "    </tr>\n",
              "    <tr>\n",
              "      <th>35596</th>\n",
              "      <td>2020-04-06</td>\n",
              "      <td>Autauga</td>\n",
              "      <td>Alabama</td>\n",
              "      <td>01001</td>\n",
              "      <td>12</td>\n",
              "      <td>1.0</td>\n",
              "      <td>0.0</td>\n",
              "    </tr>\n",
              "    <tr>\n",
              "      <th>38084</th>\n",
              "      <td>2020-04-07</td>\n",
              "      <td>Autauga</td>\n",
              "      <td>Alabama</td>\n",
              "      <td>01001</td>\n",
              "      <td>12</td>\n",
              "      <td>1.0</td>\n",
              "      <td>0.0</td>\n",
              "    </tr>\n",
              "    <tr>\n",
              "      <th>40626</th>\n",
              "      <td>2020-04-08</td>\n",
              "      <td>Autauga</td>\n",
              "      <td>Alabama</td>\n",
              "      <td>01001</td>\n",
              "      <td>12</td>\n",
              "      <td>1.0</td>\n",
              "      <td>0.0</td>\n",
              "    </tr>\n",
              "    <tr>\n",
              "      <th>45797</th>\n",
              "      <td>2020-04-10</td>\n",
              "      <td>Autauga</td>\n",
              "      <td>Alabama</td>\n",
              "      <td>01001</td>\n",
              "      <td>17</td>\n",
              "      <td>1.0</td>\n",
              "      <td>0.0</td>\n",
              "    </tr>\n",
              "    <tr>\n",
              "      <th>51087</th>\n",
              "      <td>2020-04-12</td>\n",
              "      <td>Autauga</td>\n",
              "      <td>Alabama</td>\n",
              "      <td>01001</td>\n",
              "      <td>19</td>\n",
              "      <td>1.0</td>\n",
              "      <td>0.0</td>\n",
              "    </tr>\n",
              "    <tr>\n",
              "      <th>53765</th>\n",
              "      <td>2020-04-13</td>\n",
              "      <td>Autauga</td>\n",
              "      <td>Alabama</td>\n",
              "      <td>01001</td>\n",
              "      <td>19</td>\n",
              "      <td>1.0</td>\n",
              "      <td>0.0</td>\n",
              "    </tr>\n",
              "    <tr>\n",
              "      <th>61883</th>\n",
              "      <td>2020-04-16</td>\n",
              "      <td>Autauga</td>\n",
              "      <td>Alabama</td>\n",
              "      <td>01001</td>\n",
              "      <td>25</td>\n",
              "      <td>2.0</td>\n",
              "      <td>0.0</td>\n",
              "    </tr>\n",
              "    <tr>\n",
              "      <th>89672</th>\n",
              "      <td>2020-04-26</td>\n",
              "      <td>Autauga</td>\n",
              "      <td>Alabama</td>\n",
              "      <td>01001</td>\n",
              "      <td>37</td>\n",
              "      <td>2.0</td>\n",
              "      <td>0.0</td>\n",
              "    </tr>\n",
              "    <tr>\n",
              "      <th>103870</th>\n",
              "      <td>2020-05-01</td>\n",
              "      <td>Autauga</td>\n",
              "      <td>Alabama</td>\n",
              "      <td>01001</td>\n",
              "      <td>42</td>\n",
              "      <td>3.0</td>\n",
              "      <td>0.0</td>\n",
              "    </tr>\n",
              "    <tr>\n",
              "      <th>115362</th>\n",
              "      <td>2020-05-05</td>\n",
              "      <td>Autauga</td>\n",
              "      <td>Alabama</td>\n",
              "      <td>01001</td>\n",
              "      <td>53</td>\n",
              "      <td>3.0</td>\n",
              "      <td>0.0</td>\n",
              "    </tr>\n",
              "    <tr>\n",
              "      <th>151220</th>\n",
              "      <td>2020-05-17</td>\n",
              "      <td>Autauga</td>\n",
              "      <td>Alabama</td>\n",
              "      <td>01001</td>\n",
              "      <td>110</td>\n",
              "      <td>4.0</td>\n",
              "      <td>0.0</td>\n",
              "    </tr>\n",
              "    <tr>\n",
              "      <th>202999</th>\n",
              "      <td>2020-06-03</td>\n",
              "      <td>Autauga</td>\n",
              "      <td>Alabama</td>\n",
              "      <td>01001</td>\n",
              "      <td>240</td>\n",
              "      <td>5.0</td>\n",
              "      <td>0.0</td>\n",
              "    </tr>\n",
              "    <tr>\n",
              "      <th>402076</th>\n",
              "      <td>2020-08-05</td>\n",
              "      <td>Autauga</td>\n",
              "      <td>Alabama</td>\n",
              "      <td>01001</td>\n",
              "      <td>1073</td>\n",
              "      <td>22.0</td>\n",
              "      <td>0.0</td>\n",
              "    </tr>\n",
              "    <tr>\n",
              "      <th>450426</th>\n",
              "      <td>2020-08-20</td>\n",
              "      <td>Autauga</td>\n",
              "      <td>Alabama</td>\n",
              "      <td>01001</td>\n",
              "      <td>1298</td>\n",
              "      <td>23.0</td>\n",
              "      <td>0.0</td>\n",
              "    </tr>\n",
              "  </tbody>\n",
              "</table>\n",
              "</div>"
            ],
            "text/plain": [
              "             date   county    state   fips  cases  deaths  new_cases\n",
              "14025  2020-03-27  Autauga  Alabama  01001      6     0.0        0.0\n",
              "15803  2020-03-28  Autauga  Alabama  01001      6     0.0        0.0\n",
              "17686  2020-03-29  Autauga  Alabama  01001      6     0.0        0.0\n",
              "21727  2020-03-31  Autauga  Alabama  01001      7     0.0        0.0\n",
              "26101  2020-04-02  Autauga  Alabama  01001     10     0.0        0.0\n",
              "30753  2020-04-04  Autauga  Alabama  01001     12     0.0        0.0\n",
              "33157  2020-04-05  Autauga  Alabama  01001     12     0.0        0.0\n",
              "35596  2020-04-06  Autauga  Alabama  01001     12     1.0        0.0\n",
              "38084  2020-04-07  Autauga  Alabama  01001     12     1.0        0.0\n",
              "40626  2020-04-08  Autauga  Alabama  01001     12     1.0        0.0\n",
              "45797  2020-04-10  Autauga  Alabama  01001     17     1.0        0.0\n",
              "51087  2020-04-12  Autauga  Alabama  01001     19     1.0        0.0\n",
              "53765  2020-04-13  Autauga  Alabama  01001     19     1.0        0.0\n",
              "61883  2020-04-16  Autauga  Alabama  01001     25     2.0        0.0\n",
              "89672  2020-04-26  Autauga  Alabama  01001     37     2.0        0.0\n",
              "103870 2020-05-01  Autauga  Alabama  01001     42     3.0        0.0\n",
              "115362 2020-05-05  Autauga  Alabama  01001     53     3.0        0.0\n",
              "151220 2020-05-17  Autauga  Alabama  01001    110     4.0        0.0\n",
              "202999 2020-06-03  Autauga  Alabama  01001    240     5.0        0.0\n",
              "402076 2020-08-05  Autauga  Alabama  01001   1073    22.0        0.0\n",
              "450426 2020-08-20  Autauga  Alabama  01001   1298    23.0        0.0"
            ]
          },
          "metadata": {
            "tags": []
          },
          "execution_count": 11
        }
      ]
    },
    {
      "cell_type": "code",
      "metadata": {
        "id": "MKRutoTPNPsW"
      },
      "source": [
        "df_cases_bycounty = df_cases.groupby('fips', as_index=False)"
      ],
      "execution_count": 12,
      "outputs": []
    },
    {
      "cell_type": "markdown",
      "metadata": {
        "id": "WE3o9TBANDSB"
      },
      "source": [
        "#### Calculate Growth Ratio 7 Day\n",
        "This growth ratio has a 7 day baseline.\n",
        "\n",
        "![eq1.png](data:image/png;base64,iVBORw0KGgoAAAANSUhEUgAAAMsAAAByBAMAAAAPEDi9AAAAMFBMVEX///8AAAAAAAAAAAAAAAAAAAAAAAAAAAAAAAAAAAAAAAAAAAAAAAAAAAAAAAAAAAAv3aB7AAAAD3RSTlMARKu7iRBmMs0iVHaZ3e/fCLrQAAAACXBIWXMAAA7EAAAOxAGVKw4bAAAHbUlEQVRoBe1aa4hUVRz/z+POnbvz2ClIiD7sYn0IhdzEyJ47+qFACS8VIdU6Q0VLIMzgl4qyncwg64MjhbiR7i2QpIgdyhUhaiaQqBR3iSKNyoEeoj0cTdOe07mP/7nn3HvPfcy6FOWBnf/v/7733HPPOff8F6DHtloN47gpjJGPjfQZq1SGWI7B2+sM0wMc0VinVIvlGBz7lmF6gEs4n7jGsQyzl8HRYWaG9Yk1b2FZFqeLLBcVT1Q5jx0cxzLyWZaLijfwDvfxLMstZZmIOOa4xvfF/mOaWBekydV4i8Myz5vcqE7i3FP0MhPLBjRe19nC8wwnn2SYiPBmh/2yAidIbVbh4IepliE8xKmiMNLvAdbvFCEJBbO7VqkBxkJ1xjECXIZvt2EL9BUN+VjDpQ4pSHT8DZVLTsJOiJsPLF/zNxZr+4fEOl2TUi+HMiQfMqyyAdckDjXA9EOi+yVpP3W7XZU6ZGBALSOXCuphNHTRZtUWyX8Z4ZVXunbuDOSmNDSRf0EURHd9w1ssYtnmkMndMUOld0PmuIqcdApREFV+4y2+Ytk0ju5rqXQnSD9TBn60oT/qO8Prz7GsdKJqsndSaRFgPmVg2Ib+KFvj9ArfDZNWb0lo9NJpgHkAKxqmYLqOigCaK3IGMgnDtCyfFTXxwqAJV1l3iwohnSiQd2HlRwDK/ikC+/BpWA5HNC/PbShcRVxCtQqxWgg5DdbX47+SjI40E0Tmbo+jqKkhCqBXkmVjEJI16Tgk2ySN401IcUMCYyVf1kxYKaMogH4PMFAnGbJtSAwCZBzjG4aLfgEmG35aW6eQ6eImgEStvwX9xMeVpsSnIROP2TpGjLBpUsT8B4D+1oQGY1V3p8H99iV5oLBp4kMqkMdRqZKea5I4zpEmf+oKLu2xdyFhn02+UYTvADbCmApPkYgx/r2BkborTbzeX0Bhs4zIn+a1IrwJ2RbkChl9LDteT3jW7Z4u5xsobdKEKPGmfQtVyJhv5wp9n6L8wdlliyYb46SlKrLTFKEkkOqjARxTOw6Ax1hvicwZVhtWEYWm8Zpuyk3t8ozpLR02qfl7l53mCCsPgaUilMq6HTe14wBo1nQVbXkNoeccgUoPmjxjLSPNOqN9bpy0h+cdZBZpXZuoWTYS/yQtqQ+RFz5QNtQDmm2VxFee2XIAPFGPty2bmGMGtF2DkGNy8TDfptI1Kuk5f3v4uET5mkvkEMT27ENJuo0oKs069ga+/qWWr9pHSbdeVYfRPW9pDgnAZMElCiv42jI8ZtHnLdqS3FvMq8IGdds1VV621mSVa2AxryBThmOeder9+FKD1y4wWeUYfMArAEQDTXgwwgQgq7XeXtcMApedLpsA4AsESPMtRDxNCeSslfm5Jr/Yyh4graG0USm7Dk8qjv5Fy7iGyIe+qzsrCcs0NYim6SoipJ8g4KnPwQhjaL7jayxJtgxryV29B3ArY2PATI1KLl58hToKsO7Ex/NvrIP4YIQ6kBs5qjNrlSyJfqCRq1s3karyaxvAjjp6PXIdSAs6hJtWIXkWfA5G0IPQN1Tyc/WlpqRfKZhg3ji3thHh56bC2qqWhgh7iPydA3tLghZeNKk7PGhFT15kmkjdrr5XYFqigUxFI0hnjRfpT/A+GEFrSpdT5Af2o1I2Vp1sldwW2U70nQafgxH00WmfynIirKEibcy2ScLGOwAjg+A4GEG7WdKBQQyQH4Kt1yNzvul0ASNO3LB7A2JIPmO0J6lglmAz7eNKFcz90Swjerrru6h1w6eqAIvIKPBct+mmomfQMfdcpUGSjKxVWc80npcXUdgk9wGTZTJ/kDcr10Hv8/1sjPVA3+bqh2T9bYWguWgyOY+5/TYSeTvpsHw7CS+8FirT6lBWm+glJxfvm5LJzazcXQZ545T8dKJMdWIw21JETiM5g9uIxtqkWizHYGEpYowx8oFLOF1c41iG2ctgFu5iGSHOzLAqnxU3XWQNbbwdYlWbE6EJ3ka84opKEallr4piM3J78jOEPivuUsYrKvxXlSKMi/+vlCJg1LgdfSPTWwtXirBirwo1K3ldSLhSRKpl+I41vEKEkYUrRViFleAPVVHKcKWIvqLhn+2IwgTJB5h+EJcirMLKXJcirMIK/R4Ouni4UIqwu4g7r7LFbpStcbILpQiuOwRMhcgvlCLMzgl7eP+/L0WkHh2v43iaw1JErtuln0rNMib0pz2UIjKg0OBzWIpQyL8lYJvLUgRMYRbQv9EittClCKlFI+sf0VGaFKEUkSzQyOcoCgeilCLyVYw5l6UIKNEHMpelCL3aZzXRCTHqxTTEDm899U63KYwI/ulSxOj4uOuKJ+0x59IFCESliCPdbt3pev5LEdCArc4sc1CKgDoUnWl6H2jkQKxtRHOXIjJ0HGM64+gJmYhUWIq41xWo4krsMhELRKWIZS4XQSnCZecpyBV18RpLl6WliKOWhJJMjcIegKAUIblKiHYpoocsolKE7EpDSxE9ZQHPUgRgtZ3GtEsRVBQNLA9lTksRoaw9jKKVIv4G+mWh0TUsq7EAAAAASUVORK5CYII=)"
      ]
    },
    {
      "cell_type": "code",
      "metadata": {
        "id": "JAOacbWKZvXL",
        "colab": {
          "base_uri": "https://localhost:8080/",
          "height": 0
        },
        "outputId": "ebaebb02-d347-41c2-9d1a-d811e6cb04fc"
      },
      "source": [
        "growth_rate_7day = np.log(df_cases_bycounty['new_cases'].rolling(3).sum() / 3) / np.log(df_cases_bycounty['new_cases'].rolling(7).sum() / 7)\n",
        "growth_rate_7day = growth_rate_7day.reset_index().rename(columns={'new_cases': 'growth_rate_7day', 'level_1': 'index'}).set_index('index')\n",
        "growth_rate_7day[growth_rate_7day['fips'] == '01001'].tail()"
      ],
      "execution_count": 13,
      "outputs": [
        {
          "output_type": "stream",
          "text": [
            "/usr/local/lib/python3.6/dist-packages/pandas/core/series.py:726: RuntimeWarning: divide by zero encountered in log\n",
            "  result = getattr(ufunc, method)(*inputs, **kwargs)\n",
            "/usr/local/lib/python3.6/dist-packages/pandas/core/series.py:726: RuntimeWarning: invalid value encountered in log\n",
            "  result = getattr(ufunc, method)(*inputs, **kwargs)\n"
          ],
          "name": "stderr"
        },
        {
          "output_type": "execute_result",
          "data": {
            "text/html": [
              "<div>\n",
              "<style scoped>\n",
              "    .dataframe tbody tr th:only-of-type {\n",
              "        vertical-align: middle;\n",
              "    }\n",
              "\n",
              "    .dataframe tbody tr th {\n",
              "        vertical-align: top;\n",
              "    }\n",
              "\n",
              "    .dataframe thead th {\n",
              "        text-align: right;\n",
              "    }\n",
              "</style>\n",
              "<table border=\"1\" class=\"dataframe\">\n",
              "  <thead>\n",
              "    <tr style=\"text-align: right;\">\n",
              "      <th></th>\n",
              "      <th>fips</th>\n",
              "      <th>growth_rate_7day</th>\n",
              "    </tr>\n",
              "    <tr>\n",
              "      <th>index</th>\n",
              "      <th></th>\n",
              "      <th></th>\n",
              "    </tr>\n",
              "  </thead>\n",
              "  <tbody>\n",
              "    <tr>\n",
              "      <th>868592</th>\n",
              "      <td>01001</td>\n",
              "      <td>0.905905</td>\n",
              "    </tr>\n",
              "    <tr>\n",
              "      <th>871837</th>\n",
              "      <td>01001</td>\n",
              "      <td>0.868422</td>\n",
              "    </tr>\n",
              "    <tr>\n",
              "      <th>875082</th>\n",
              "      <td>01001</td>\n",
              "      <td>0.982035</td>\n",
              "    </tr>\n",
              "    <tr>\n",
              "      <th>878327</th>\n",
              "      <td>01001</td>\n",
              "      <td>1.036994</td>\n",
              "    </tr>\n",
              "    <tr>\n",
              "      <th>881572</th>\n",
              "      <td>01001</td>\n",
              "      <td>1.045461</td>\n",
              "    </tr>\n",
              "  </tbody>\n",
              "</table>\n",
              "</div>"
            ],
            "text/plain": [
              "         fips  growth_rate_7day\n",
              "index                          \n",
              "868592  01001          0.905905\n",
              "871837  01001          0.868422\n",
              "875082  01001          0.982035\n",
              "878327  01001          1.036994\n",
              "881572  01001          1.045461"
            ]
          },
          "metadata": {
            "tags": []
          },
          "execution_count": 13
        }
      ]
    },
    {
      "cell_type": "markdown",
      "metadata": {
        "id": "teji2oZVNhtd"
      },
      "source": [
        "#### Calculate Growth Ratio 14 Day\n",
        "This growth ratio has a 14 day baseline.\n",
        "\n",
        "![eq2.png](data:image/png;base64,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)"
      ]
    },
    {
      "cell_type": "code",
      "metadata": {
        "colab": {
          "base_uri": "https://localhost:8080/",
          "height": 0
        },
        "id": "kPtE54ChNt4D",
        "outputId": "98a92ee8-6de7-4fd6-c658-bbc90e2bf74b"
      },
      "source": [
        "growth_rate_14day = np.log(df_cases_bycounty['new_cases'].rolling(3).sum() / 3) / np.log(df_cases_bycounty['new_cases'].rolling(14).sum() / 14)\n",
        "growth_rate_14day = growth_rate_14day.reset_index().rename(columns={'new_cases': 'growth_rate_14day', 'level_1': 'index'}).set_index('index')\n",
        "growth_rate_14day[growth_rate_14day['fips'] == '01001'].tail()"
      ],
      "execution_count": 14,
      "outputs": [
        {
          "output_type": "stream",
          "text": [
            "/usr/local/lib/python3.6/dist-packages/pandas/core/series.py:726: RuntimeWarning: divide by zero encountered in log\n",
            "  result = getattr(ufunc, method)(*inputs, **kwargs)\n",
            "/usr/local/lib/python3.6/dist-packages/pandas/core/series.py:726: RuntimeWarning: invalid value encountered in log\n",
            "  result = getattr(ufunc, method)(*inputs, **kwargs)\n"
          ],
          "name": "stderr"
        },
        {
          "output_type": "execute_result",
          "data": {
            "text/html": [
              "<div>\n",
              "<style scoped>\n",
              "    .dataframe tbody tr th:only-of-type {\n",
              "        vertical-align: middle;\n",
              "    }\n",
              "\n",
              "    .dataframe tbody tr th {\n",
              "        vertical-align: top;\n",
              "    }\n",
              "\n",
              "    .dataframe thead th {\n",
              "        text-align: right;\n",
              "    }\n",
              "</style>\n",
              "<table border=\"1\" class=\"dataframe\">\n",
              "  <thead>\n",
              "    <tr style=\"text-align: right;\">\n",
              "      <th></th>\n",
              "      <th>fips</th>\n",
              "      <th>growth_rate_14day</th>\n",
              "    </tr>\n",
              "    <tr>\n",
              "      <th>index</th>\n",
              "      <th></th>\n",
              "      <th></th>\n",
              "    </tr>\n",
              "  </thead>\n",
              "  <tbody>\n",
              "    <tr>\n",
              "      <th>868592</th>\n",
              "      <td>01001</td>\n",
              "      <td>0.851916</td>\n",
              "    </tr>\n",
              "    <tr>\n",
              "      <th>871837</th>\n",
              "      <td>01001</td>\n",
              "      <td>0.812402</td>\n",
              "    </tr>\n",
              "    <tr>\n",
              "      <th>875082</th>\n",
              "      <td>01001</td>\n",
              "      <td>0.918400</td>\n",
              "    </tr>\n",
              "    <tr>\n",
              "      <th>878327</th>\n",
              "      <td>01001</td>\n",
              "      <td>0.990274</td>\n",
              "    </tr>\n",
              "    <tr>\n",
              "      <th>881572</th>\n",
              "      <td>01001</td>\n",
              "      <td>0.983918</td>\n",
              "    </tr>\n",
              "  </tbody>\n",
              "</table>\n",
              "</div>"
            ],
            "text/plain": [
              "         fips  growth_rate_14day\n",
              "index                           \n",
              "868592  01001           0.851916\n",
              "871837  01001           0.812402\n",
              "875082  01001           0.918400\n",
              "878327  01001           0.990274\n",
              "881572  01001           0.983918"
            ]
          },
          "metadata": {
            "tags": []
          },
          "execution_count": 14
        }
      ]
    },
    {
      "cell_type": "code",
      "metadata": {
        "id": "bQcP3kbJxzgz",
        "colab": {
          "base_uri": "https://localhost:8080/",
          "height": 0
        },
        "outputId": "befef07a-c367-4db4-f4a9-c455a9ae6caf"
      },
      "source": [
        "df_cases = df_cases.assign(growth_rate_7day = growth_rate_7day['growth_rate_7day'])\n",
        "df_cases = df_cases.assign(growth_rate_14day = growth_rate_14day['growth_rate_14day'])\n",
        "\n",
        "df_cases['growth_rate_7day'] = df_cases['growth_rate_7day'].replace([np.inf, -np.inf], np.nan)\n",
        "df_cases['growth_rate_14day'] = df_cases['growth_rate_14day'].replace([np.inf, -np.inf], np.nan)\n",
        "\n",
        "df_cases[(df_cases['fips'] == '01001') & (df_cases['date'] >= '2020-12-01') & (df_cases['date'] <= '2020-12-14')]"
      ],
      "execution_count": 15,
      "outputs": [
        {
          "output_type": "execute_result",
          "data": {
            "text/html": [
              "<div>\n",
              "<style scoped>\n",
              "    .dataframe tbody tr th:only-of-type {\n",
              "        vertical-align: middle;\n",
              "    }\n",
              "\n",
              "    .dataframe tbody tr th {\n",
              "        vertical-align: top;\n",
              "    }\n",
              "\n",
              "    .dataframe thead th {\n",
              "        text-align: right;\n",
              "    }\n",
              "</style>\n",
              "<table border=\"1\" class=\"dataframe\">\n",
              "  <thead>\n",
              "    <tr style=\"text-align: right;\">\n",
              "      <th></th>\n",
              "      <th>date</th>\n",
              "      <th>county</th>\n",
              "      <th>state</th>\n",
              "      <th>fips</th>\n",
              "      <th>cases</th>\n",
              "      <th>deaths</th>\n",
              "      <th>new_cases</th>\n",
              "      <th>growth_rate_7day</th>\n",
              "      <th>growth_rate_14day</th>\n",
              "    </tr>\n",
              "  </thead>\n",
              "  <tbody>\n",
              "    <tr>\n",
              "      <th>784210</th>\n",
              "      <td>2020-12-01</td>\n",
              "      <td>Autauga</td>\n",
              "      <td>Alabama</td>\n",
              "      <td>01001</td>\n",
              "      <td>2818</td>\n",
              "      <td>42.0</td>\n",
              "      <td>38.0</td>\n",
              "      <td>1.067482</td>\n",
              "      <td>1.069680</td>\n",
              "    </tr>\n",
              "    <tr>\n",
              "      <th>787454</th>\n",
              "      <td>2020-12-02</td>\n",
              "      <td>Autauga</td>\n",
              "      <td>Alabama</td>\n",
              "      <td>01001</td>\n",
              "      <td>2873</td>\n",
              "      <td>42.0</td>\n",
              "      <td>55.0</td>\n",
              "      <td>1.127910</td>\n",
              "      <td>1.157367</td>\n",
              "    </tr>\n",
              "    <tr>\n",
              "      <th>790700</th>\n",
              "      <td>2020-12-03</td>\n",
              "      <td>Autauga</td>\n",
              "      <td>Alabama</td>\n",
              "      <td>01001</td>\n",
              "      <td>2893</td>\n",
              "      <td>42.0</td>\n",
              "      <td>20.0</td>\n",
              "      <td>1.101018</td>\n",
              "      <td>1.138638</td>\n",
              "    </tr>\n",
              "    <tr>\n",
              "      <th>793946</th>\n",
              "      <td>2020-12-04</td>\n",
              "      <td>Autauga</td>\n",
              "      <td>Alabama</td>\n",
              "      <td>01001</td>\n",
              "      <td>2945</td>\n",
              "      <td>42.0</td>\n",
              "      <td>52.0</td>\n",
              "      <td>1.073904</td>\n",
              "      <td>1.148653</td>\n",
              "    </tr>\n",
              "    <tr>\n",
              "      <th>797191</th>\n",
              "      <td>2020-12-05</td>\n",
              "      <td>Autauga</td>\n",
              "      <td>Alabama</td>\n",
              "      <td>01001</td>\n",
              "      <td>2979</td>\n",
              "      <td>42.0</td>\n",
              "      <td>34.0</td>\n",
              "      <td>1.003821</td>\n",
              "      <td>1.078172</td>\n",
              "    </tr>\n",
              "    <tr>\n",
              "      <th>800437</th>\n",
              "      <td>2020-12-06</td>\n",
              "      <td>Autauga</td>\n",
              "      <td>Alabama</td>\n",
              "      <td>01001</td>\n",
              "      <td>3005</td>\n",
              "      <td>42.0</td>\n",
              "      <td>26.0</td>\n",
              "      <td>1.007925</td>\n",
              "      <td>1.089688</td>\n",
              "    </tr>\n",
              "    <tr>\n",
              "      <th>803683</th>\n",
              "      <td>2020-12-07</td>\n",
              "      <td>Autauga</td>\n",
              "      <td>Alabama</td>\n",
              "      <td>01001</td>\n",
              "      <td>3043</td>\n",
              "      <td>42.0</td>\n",
              "      <td>38.0</td>\n",
              "      <td>0.961423</td>\n",
              "      <td>1.033099</td>\n",
              "    </tr>\n",
              "    <tr>\n",
              "      <th>806928</th>\n",
              "      <td>2020-12-08</td>\n",
              "      <td>Autauga</td>\n",
              "      <td>Alabama</td>\n",
              "      <td>01001</td>\n",
              "      <td>3087</td>\n",
              "      <td>42.0</td>\n",
              "      <td>44.0</td>\n",
              "      <td>0.982109</td>\n",
              "      <td>1.049229</td>\n",
              "    </tr>\n",
              "    <tr>\n",
              "      <th>810173</th>\n",
              "      <td>2020-12-09</td>\n",
              "      <td>Autauga</td>\n",
              "      <td>Alabama</td>\n",
              "      <td>01001</td>\n",
              "      <td>3117</td>\n",
              "      <td>42.0</td>\n",
              "      <td>30.0</td>\n",
              "      <td>1.019325</td>\n",
              "      <td>1.056269</td>\n",
              "    </tr>\n",
              "    <tr>\n",
              "      <th>813417</th>\n",
              "      <td>2020-12-10</td>\n",
              "      <td>Autauga</td>\n",
              "      <td>Alabama</td>\n",
              "      <td>01001</td>\n",
              "      <td>3186</td>\n",
              "      <td>42.0</td>\n",
              "      <td>69.0</td>\n",
              "      <td>1.034805</td>\n",
              "      <td>1.091934</td>\n",
              "    </tr>\n",
              "    <tr>\n",
              "      <th>816663</th>\n",
              "      <td>2020-12-11</td>\n",
              "      <td>Autauga</td>\n",
              "      <td>Alabama</td>\n",
              "      <td>01001</td>\n",
              "      <td>3233</td>\n",
              "      <td>42.0</td>\n",
              "      <td>47.0</td>\n",
              "      <td>1.045182</td>\n",
              "      <td>1.076478</td>\n",
              "    </tr>\n",
              "    <tr>\n",
              "      <th>819909</th>\n",
              "      <td>2020-12-12</td>\n",
              "      <td>Autauga</td>\n",
              "      <td>Alabama</td>\n",
              "      <td>01001</td>\n",
              "      <td>3258</td>\n",
              "      <td>41.0</td>\n",
              "      <td>25.0</td>\n",
              "      <td>1.044731</td>\n",
              "      <td>1.063423</td>\n",
              "    </tr>\n",
              "    <tr>\n",
              "      <th>823155</th>\n",
              "      <td>2020-12-13</td>\n",
              "      <td>Autauga</td>\n",
              "      <td>Alabama</td>\n",
              "      <td>01001</td>\n",
              "      <td>3300</td>\n",
              "      <td>41.0</td>\n",
              "      <td>42.0</td>\n",
              "      <td>0.972340</td>\n",
              "      <td>0.991427</td>\n",
              "    </tr>\n",
              "    <tr>\n",
              "      <th>826402</th>\n",
              "      <td>2020-12-14</td>\n",
              "      <td>Autauga</td>\n",
              "      <td>Alabama</td>\n",
              "      <td>01001</td>\n",
              "      <td>3329</td>\n",
              "      <td>41.0</td>\n",
              "      <td>29.0</td>\n",
              "      <td>0.934140</td>\n",
              "      <td>0.944589</td>\n",
              "    </tr>\n",
              "  </tbody>\n",
              "</table>\n",
              "</div>"
            ],
            "text/plain": [
              "             date   county  ... growth_rate_7day growth_rate_14day\n",
              "784210 2020-12-01  Autauga  ...         1.067482          1.069680\n",
              "787454 2020-12-02  Autauga  ...         1.127910          1.157367\n",
              "790700 2020-12-03  Autauga  ...         1.101018          1.138638\n",
              "793946 2020-12-04  Autauga  ...         1.073904          1.148653\n",
              "797191 2020-12-05  Autauga  ...         1.003821          1.078172\n",
              "800437 2020-12-06  Autauga  ...         1.007925          1.089688\n",
              "803683 2020-12-07  Autauga  ...         0.961423          1.033099\n",
              "806928 2020-12-08  Autauga  ...         0.982109          1.049229\n",
              "810173 2020-12-09  Autauga  ...         1.019325          1.056269\n",
              "813417 2020-12-10  Autauga  ...         1.034805          1.091934\n",
              "816663 2020-12-11  Autauga  ...         1.045182          1.076478\n",
              "819909 2020-12-12  Autauga  ...         1.044731          1.063423\n",
              "823155 2020-12-13  Autauga  ...         0.972340          0.991427\n",
              "826402 2020-12-14  Autauga  ...         0.934140          0.944589\n",
              "\n",
              "[14 rows x 9 columns]"
            ]
          },
          "metadata": {
            "tags": []
          },
          "execution_count": 15
        }
      ]
    },
    {
      "cell_type": "markdown",
      "metadata": {
        "id": "m41PxougK1lV"
      },
      "source": [
        "### Calculate Growth Ratio (Rate of Change)"
      ]
    },
    {
      "cell_type": "code",
      "metadata": {
        "colab": {
          "base_uri": "https://localhost:8080/",
          "height": 0
        },
        "id": "w4i38BGLK490",
        "outputId": "0e210a6b-bd6e-4ee1-debe-46d69286bf2c"
      },
      "source": [
        "previous_3days = df_cases_bycounty['new_cases'].rolling(3).sum() / 3\n",
        "previous_7days = df_cases_bycounty['new_cases'].rolling(7).sum() / 7\n",
        "new_cases_relative_rate_change = previous_3days - previous_7days\n",
        "new_cases_relative_rate_change = new_cases_relative_rate_change.reset_index().rename(columns={'new_cases': 'new_cases_relative_rate_change', 'level_1': 'index'}).set_index('index')\n",
        "new_cases_relative_rate_change"
      ],
      "execution_count": 16,
      "outputs": [
        {
          "output_type": "execute_result",
          "data": {
            "text/html": [
              "<div>\n",
              "<style scoped>\n",
              "    .dataframe tbody tr th:only-of-type {\n",
              "        vertical-align: middle;\n",
              "    }\n",
              "\n",
              "    .dataframe tbody tr th {\n",
              "        vertical-align: top;\n",
              "    }\n",
              "\n",
              "    .dataframe thead th {\n",
              "        text-align: right;\n",
              "    }\n",
              "</style>\n",
              "<table border=\"1\" class=\"dataframe\">\n",
              "  <thead>\n",
              "    <tr style=\"text-align: right;\">\n",
              "      <th></th>\n",
              "      <th>fips</th>\n",
              "      <th>new_cases_relative_rate_change</th>\n",
              "    </tr>\n",
              "    <tr>\n",
              "      <th>index</th>\n",
              "      <th></th>\n",
              "      <th></th>\n",
              "    </tr>\n",
              "  </thead>\n",
              "  <tbody>\n",
              "    <tr>\n",
              "      <th>10835</th>\n",
              "      <td>01001</td>\n",
              "      <td>NaN</td>\n",
              "    </tr>\n",
              "    <tr>\n",
              "      <th>12367</th>\n",
              "      <td>01001</td>\n",
              "      <td>NaN</td>\n",
              "    </tr>\n",
              "    <tr>\n",
              "      <th>14025</th>\n",
              "      <td>01001</td>\n",
              "      <td>NaN</td>\n",
              "    </tr>\n",
              "    <tr>\n",
              "      <th>15803</th>\n",
              "      <td>01001</td>\n",
              "      <td>NaN</td>\n",
              "    </tr>\n",
              "    <tr>\n",
              "      <th>17686</th>\n",
              "      <td>01001</td>\n",
              "      <td>NaN</td>\n",
              "    </tr>\n",
              "    <tr>\n",
              "      <th>...</th>\n",
              "      <td>...</td>\n",
              "      <td>...</td>\n",
              "    </tr>\n",
              "    <tr>\n",
              "      <th>871836</th>\n",
              "      <td>56045</td>\n",
              "      <td>-0.857143</td>\n",
              "    </tr>\n",
              "    <tr>\n",
              "      <th>875081</th>\n",
              "      <td>56045</td>\n",
              "      <td>-0.523810</td>\n",
              "    </tr>\n",
              "    <tr>\n",
              "      <th>878326</th>\n",
              "      <td>56045</td>\n",
              "      <td>1.047619</td>\n",
              "    </tr>\n",
              "    <tr>\n",
              "      <th>881571</th>\n",
              "      <td>56045</td>\n",
              "      <td>0.857143</td>\n",
              "    </tr>\n",
              "    <tr>\n",
              "      <th>884816</th>\n",
              "      <td>56045</td>\n",
              "      <td>0.714286</td>\n",
              "    </tr>\n",
              "  </tbody>\n",
              "</table>\n",
              "<p>854548 rows × 2 columns</p>\n",
              "</div>"
            ],
            "text/plain": [
              "         fips  new_cases_relative_rate_change\n",
              "index                                        \n",
              "10835   01001                             NaN\n",
              "12367   01001                             NaN\n",
              "14025   01001                             NaN\n",
              "15803   01001                             NaN\n",
              "17686   01001                             NaN\n",
              "...       ...                             ...\n",
              "871836  56045                       -0.857143\n",
              "875081  56045                       -0.523810\n",
              "878326  56045                        1.047619\n",
              "881571  56045                        0.857143\n",
              "884816  56045                        0.714286\n",
              "\n",
              "[854548 rows x 2 columns]"
            ]
          },
          "metadata": {
            "tags": []
          },
          "execution_count": 16
        }
      ]
    },
    {
      "cell_type": "code",
      "metadata": {
        "colab": {
          "base_uri": "https://localhost:8080/",
          "height": 0
        },
        "id": "LdnOofk1LIOB",
        "outputId": "83321a25-e3ea-441d-9ef6-251ecbc46ea5"
      },
      "source": [
        "df_cases = df_cases.assign(new_cases_relative_rate_change = new_cases_relative_rate_change['new_cases_relative_rate_change'])\n",
        "df_cases['new_cases_relative_rate_change_shift7'] = df_cases['new_cases_relative_rate_change'].shift(7)\n",
        "df_cases.tail(10)"
      ],
      "execution_count": 17,
      "outputs": [
        {
          "output_type": "execute_result",
          "data": {
            "text/html": [
              "<div>\n",
              "<style scoped>\n",
              "    .dataframe tbody tr th:only-of-type {\n",
              "        vertical-align: middle;\n",
              "    }\n",
              "\n",
              "    .dataframe tbody tr th {\n",
              "        vertical-align: top;\n",
              "    }\n",
              "\n",
              "    .dataframe thead th {\n",
              "        text-align: right;\n",
              "    }\n",
              "</style>\n",
              "<table border=\"1\" class=\"dataframe\">\n",
              "  <thead>\n",
              "    <tr style=\"text-align: right;\">\n",
              "      <th></th>\n",
              "      <th>date</th>\n",
              "      <th>county</th>\n",
              "      <th>state</th>\n",
              "      <th>fips</th>\n",
              "      <th>cases</th>\n",
              "      <th>deaths</th>\n",
              "      <th>new_cases</th>\n",
              "      <th>growth_rate_7day</th>\n",
              "      <th>growth_rate_14day</th>\n",
              "      <th>new_cases_relative_rate_change</th>\n",
              "      <th>new_cases_relative_rate_change_shift7</th>\n",
              "    </tr>\n",
              "  </thead>\n",
              "  <tbody>\n",
              "    <tr>\n",
              "      <th>884807</th>\n",
              "      <td>2020-12-31</td>\n",
              "      <td>Niobrara</td>\n",
              "      <td>Wyoming</td>\n",
              "      <td>56027</td>\n",
              "      <td>140</td>\n",
              "      <td>2.0</td>\n",
              "      <td>0.0</td>\n",
              "      <td>NaN</td>\n",
              "      <td>NaN</td>\n",
              "      <td>-0.428571</td>\n",
              "      <td>-10.714286</td>\n",
              "    </tr>\n",
              "    <tr>\n",
              "      <th>884808</th>\n",
              "      <td>2020-12-31</td>\n",
              "      <td>Park</td>\n",
              "      <td>Wyoming</td>\n",
              "      <td>56029</td>\n",
              "      <td>2021</td>\n",
              "      <td>10.0</td>\n",
              "      <td>36.0</td>\n",
              "      <td>1.055051</td>\n",
              "      <td>1.080591</td>\n",
              "      <td>4.333333</td>\n",
              "      <td>-0.809524</td>\n",
              "    </tr>\n",
              "    <tr>\n",
              "      <th>884809</th>\n",
              "      <td>2020-12-31</td>\n",
              "      <td>Platte</td>\n",
              "      <td>Wyoming</td>\n",
              "      <td>56031</td>\n",
              "      <td>440</td>\n",
              "      <td>8.0</td>\n",
              "      <td>6.0</td>\n",
              "      <td>1.611889</td>\n",
              "      <td>1.680144</td>\n",
              "      <td>3.190476</td>\n",
              "      <td>-0.619048</td>\n",
              "    </tr>\n",
              "    <tr>\n",
              "      <th>884810</th>\n",
              "      <td>2020-12-31</td>\n",
              "      <td>Sheridan</td>\n",
              "      <td>Wyoming</td>\n",
              "      <td>56033</td>\n",
              "      <td>2543</td>\n",
              "      <td>17.0</td>\n",
              "      <td>22.0</td>\n",
              "      <td>1.032208</td>\n",
              "      <td>1.153543</td>\n",
              "      <td>1.476190</td>\n",
              "      <td>-4.476190</td>\n",
              "    </tr>\n",
              "    <tr>\n",
              "      <th>884811</th>\n",
              "      <td>2020-12-31</td>\n",
              "      <td>Sublette</td>\n",
              "      <td>Wyoming</td>\n",
              "      <td>56035</td>\n",
              "      <td>597</td>\n",
              "      <td>6.0</td>\n",
              "      <td>5.0</td>\n",
              "      <td>1.375686</td>\n",
              "      <td>1.157859</td>\n",
              "      <td>1.095238</td>\n",
              "      <td>-2.666667</td>\n",
              "    </tr>\n",
              "    <tr>\n",
              "      <th>884812</th>\n",
              "      <td>2020-12-31</td>\n",
              "      <td>Sweetwater</td>\n",
              "      <td>Wyoming</td>\n",
              "      <td>56037</td>\n",
              "      <td>2966</td>\n",
              "      <td>16.0</td>\n",
              "      <td>23.0</td>\n",
              "      <td>0.891481</td>\n",
              "      <td>0.868008</td>\n",
              "      <td>-5.857143</td>\n",
              "      <td>3.809524</td>\n",
              "    </tr>\n",
              "    <tr>\n",
              "      <th>884813</th>\n",
              "      <td>2020-12-31</td>\n",
              "      <td>Teton</td>\n",
              "      <td>Wyoming</td>\n",
              "      <td>56039</td>\n",
              "      <td>2138</td>\n",
              "      <td>4.0</td>\n",
              "      <td>17.0</td>\n",
              "      <td>0.869159</td>\n",
              "      <td>0.935702</td>\n",
              "      <td>-4.142857</td>\n",
              "      <td>2.809524</td>\n",
              "    </tr>\n",
              "    <tr>\n",
              "      <th>884814</th>\n",
              "      <td>2020-12-31</td>\n",
              "      <td>Uinta</td>\n",
              "      <td>Wyoming</td>\n",
              "      <td>56041</td>\n",
              "      <td>1558</td>\n",
              "      <td>7.0</td>\n",
              "      <td>18.0</td>\n",
              "      <td>1.145691</td>\n",
              "      <td>1.095305</td>\n",
              "      <td>5.142857</td>\n",
              "      <td>-0.428571</td>\n",
              "    </tr>\n",
              "    <tr>\n",
              "      <th>884815</th>\n",
              "      <td>2020-12-31</td>\n",
              "      <td>Washakie</td>\n",
              "      <td>Wyoming</td>\n",
              "      <td>56043</td>\n",
              "      <td>780</td>\n",
              "      <td>19.0</td>\n",
              "      <td>13.0</td>\n",
              "      <td>0.869186</td>\n",
              "      <td>0.847355</td>\n",
              "      <td>-1.857143</td>\n",
              "      <td>4.333333</td>\n",
              "    </tr>\n",
              "    <tr>\n",
              "      <th>884816</th>\n",
              "      <td>2020-12-31</td>\n",
              "      <td>Weston</td>\n",
              "      <td>Wyoming</td>\n",
              "      <td>56045</td>\n",
              "      <td>476</td>\n",
              "      <td>2.0</td>\n",
              "      <td>1.0</td>\n",
              "      <td>1.328947</td>\n",
              "      <td>1.100231</td>\n",
              "      <td>0.714286</td>\n",
              "      <td>3.190476</td>\n",
              "    </tr>\n",
              "  </tbody>\n",
              "</table>\n",
              "</div>"
            ],
            "text/plain": [
              "             date  ... new_cases_relative_rate_change_shift7\n",
              "884807 2020-12-31  ...                            -10.714286\n",
              "884808 2020-12-31  ...                             -0.809524\n",
              "884809 2020-12-31  ...                             -0.619048\n",
              "884810 2020-12-31  ...                             -4.476190\n",
              "884811 2020-12-31  ...                             -2.666667\n",
              "884812 2020-12-31  ...                              3.809524\n",
              "884813 2020-12-31  ...                              2.809524\n",
              "884814 2020-12-31  ...                             -0.428571\n",
              "884815 2020-12-31  ...                              4.333333\n",
              "884816 2020-12-31  ...                              3.190476\n",
              "\n",
              "[10 rows x 11 columns]"
            ]
          },
          "metadata": {
            "tags": []
          },
          "execution_count": 17
        }
      ]
    },
    {
      "cell_type": "code",
      "metadata": {
        "colab": {
          "base_uri": "https://localhost:8080/",
          "height": 0
        },
        "id": "1K-NgQ60NXsh",
        "outputId": "2fc115b6-794d-4ebc-a8db-f9b18b570a3d"
      },
      "source": [
        "df_cases['growth_rate_of_change'] = df_cases['new_cases_relative_rate_change'] / df_cases['new_cases_relative_rate_change_shift7']\n",
        "df_cases['growth_rate_of_change'] = df_cases['growth_rate_of_change'].replace([np.inf, -np.inf], np.nan)\n",
        "df_cases.tail(10)"
      ],
      "execution_count": 18,
      "outputs": [
        {
          "output_type": "execute_result",
          "data": {
            "text/html": [
              "<div>\n",
              "<style scoped>\n",
              "    .dataframe tbody tr th:only-of-type {\n",
              "        vertical-align: middle;\n",
              "    }\n",
              "\n",
              "    .dataframe tbody tr th {\n",
              "        vertical-align: top;\n",
              "    }\n",
              "\n",
              "    .dataframe thead th {\n",
              "        text-align: right;\n",
              "    }\n",
              "</style>\n",
              "<table border=\"1\" class=\"dataframe\">\n",
              "  <thead>\n",
              "    <tr style=\"text-align: right;\">\n",
              "      <th></th>\n",
              "      <th>date</th>\n",
              "      <th>county</th>\n",
              "      <th>state</th>\n",
              "      <th>fips</th>\n",
              "      <th>cases</th>\n",
              "      <th>deaths</th>\n",
              "      <th>new_cases</th>\n",
              "      <th>growth_rate_7day</th>\n",
              "      <th>growth_rate_14day</th>\n",
              "      <th>new_cases_relative_rate_change</th>\n",
              "      <th>new_cases_relative_rate_change_shift7</th>\n",
              "      <th>growth_rate_of_change</th>\n",
              "    </tr>\n",
              "  </thead>\n",
              "  <tbody>\n",
              "    <tr>\n",
              "      <th>884807</th>\n",
              "      <td>2020-12-31</td>\n",
              "      <td>Niobrara</td>\n",
              "      <td>Wyoming</td>\n",
              "      <td>56027</td>\n",
              "      <td>140</td>\n",
              "      <td>2.0</td>\n",
              "      <td>0.0</td>\n",
              "      <td>NaN</td>\n",
              "      <td>NaN</td>\n",
              "      <td>-0.428571</td>\n",
              "      <td>-10.714286</td>\n",
              "      <td>0.040000</td>\n",
              "    </tr>\n",
              "    <tr>\n",
              "      <th>884808</th>\n",
              "      <td>2020-12-31</td>\n",
              "      <td>Park</td>\n",
              "      <td>Wyoming</td>\n",
              "      <td>56029</td>\n",
              "      <td>2021</td>\n",
              "      <td>10.0</td>\n",
              "      <td>36.0</td>\n",
              "      <td>1.055051</td>\n",
              "      <td>1.080591</td>\n",
              "      <td>4.333333</td>\n",
              "      <td>-0.809524</td>\n",
              "      <td>-5.352941</td>\n",
              "    </tr>\n",
              "    <tr>\n",
              "      <th>884809</th>\n",
              "      <td>2020-12-31</td>\n",
              "      <td>Platte</td>\n",
              "      <td>Wyoming</td>\n",
              "      <td>56031</td>\n",
              "      <td>440</td>\n",
              "      <td>8.0</td>\n",
              "      <td>6.0</td>\n",
              "      <td>1.611889</td>\n",
              "      <td>1.680144</td>\n",
              "      <td>3.190476</td>\n",
              "      <td>-0.619048</td>\n",
              "      <td>-5.153846</td>\n",
              "    </tr>\n",
              "    <tr>\n",
              "      <th>884810</th>\n",
              "      <td>2020-12-31</td>\n",
              "      <td>Sheridan</td>\n",
              "      <td>Wyoming</td>\n",
              "      <td>56033</td>\n",
              "      <td>2543</td>\n",
              "      <td>17.0</td>\n",
              "      <td>22.0</td>\n",
              "      <td>1.032208</td>\n",
              "      <td>1.153543</td>\n",
              "      <td>1.476190</td>\n",
              "      <td>-4.476190</td>\n",
              "      <td>-0.329787</td>\n",
              "    </tr>\n",
              "    <tr>\n",
              "      <th>884811</th>\n",
              "      <td>2020-12-31</td>\n",
              "      <td>Sublette</td>\n",
              "      <td>Wyoming</td>\n",
              "      <td>56035</td>\n",
              "      <td>597</td>\n",
              "      <td>6.0</td>\n",
              "      <td>5.0</td>\n",
              "      <td>1.375686</td>\n",
              "      <td>1.157859</td>\n",
              "      <td>1.095238</td>\n",
              "      <td>-2.666667</td>\n",
              "      <td>-0.410714</td>\n",
              "    </tr>\n",
              "    <tr>\n",
              "      <th>884812</th>\n",
              "      <td>2020-12-31</td>\n",
              "      <td>Sweetwater</td>\n",
              "      <td>Wyoming</td>\n",
              "      <td>56037</td>\n",
              "      <td>2966</td>\n",
              "      <td>16.0</td>\n",
              "      <td>23.0</td>\n",
              "      <td>0.891481</td>\n",
              "      <td>0.868008</td>\n",
              "      <td>-5.857143</td>\n",
              "      <td>3.809524</td>\n",
              "      <td>-1.537500</td>\n",
              "    </tr>\n",
              "    <tr>\n",
              "      <th>884813</th>\n",
              "      <td>2020-12-31</td>\n",
              "      <td>Teton</td>\n",
              "      <td>Wyoming</td>\n",
              "      <td>56039</td>\n",
              "      <td>2138</td>\n",
              "      <td>4.0</td>\n",
              "      <td>17.0</td>\n",
              "      <td>0.869159</td>\n",
              "      <td>0.935702</td>\n",
              "      <td>-4.142857</td>\n",
              "      <td>2.809524</td>\n",
              "      <td>-1.474576</td>\n",
              "    </tr>\n",
              "    <tr>\n",
              "      <th>884814</th>\n",
              "      <td>2020-12-31</td>\n",
              "      <td>Uinta</td>\n",
              "      <td>Wyoming</td>\n",
              "      <td>56041</td>\n",
              "      <td>1558</td>\n",
              "      <td>7.0</td>\n",
              "      <td>18.0</td>\n",
              "      <td>1.145691</td>\n",
              "      <td>1.095305</td>\n",
              "      <td>5.142857</td>\n",
              "      <td>-0.428571</td>\n",
              "      <td>-12.000000</td>\n",
              "    </tr>\n",
              "    <tr>\n",
              "      <th>884815</th>\n",
              "      <td>2020-12-31</td>\n",
              "      <td>Washakie</td>\n",
              "      <td>Wyoming</td>\n",
              "      <td>56043</td>\n",
              "      <td>780</td>\n",
              "      <td>19.0</td>\n",
              "      <td>13.0</td>\n",
              "      <td>0.869186</td>\n",
              "      <td>0.847355</td>\n",
              "      <td>-1.857143</td>\n",
              "      <td>4.333333</td>\n",
              "      <td>-0.428571</td>\n",
              "    </tr>\n",
              "    <tr>\n",
              "      <th>884816</th>\n",
              "      <td>2020-12-31</td>\n",
              "      <td>Weston</td>\n",
              "      <td>Wyoming</td>\n",
              "      <td>56045</td>\n",
              "      <td>476</td>\n",
              "      <td>2.0</td>\n",
              "      <td>1.0</td>\n",
              "      <td>1.328947</td>\n",
              "      <td>1.100231</td>\n",
              "      <td>0.714286</td>\n",
              "      <td>3.190476</td>\n",
              "      <td>0.223881</td>\n",
              "    </tr>\n",
              "  </tbody>\n",
              "</table>\n",
              "</div>"
            ],
            "text/plain": [
              "             date  ... growth_rate_of_change\n",
              "884807 2020-12-31  ...              0.040000\n",
              "884808 2020-12-31  ...             -5.352941\n",
              "884809 2020-12-31  ...             -5.153846\n",
              "884810 2020-12-31  ...             -0.329787\n",
              "884811 2020-12-31  ...             -0.410714\n",
              "884812 2020-12-31  ...             -1.537500\n",
              "884813 2020-12-31  ...             -1.474576\n",
              "884814 2020-12-31  ...            -12.000000\n",
              "884815 2020-12-31  ...             -0.428571\n",
              "884816 2020-12-31  ...              0.223881\n",
              "\n",
              "[10 rows x 12 columns]"
            ]
          },
          "metadata": {
            "tags": []
          },
          "execution_count": 18
        }
      ]
    },
    {
      "cell_type": "markdown",
      "metadata": {
        "id": "VR_Llsk8N1WE"
      },
      "source": [
        "## Graph Growth Ratio and Case Data"
      ]
    },
    {
      "cell_type": "markdown",
      "metadata": {
        "id": "ND66khvQOfW5"
      },
      "source": [
        "### Checking out LA County"
      ]
    },
    {
      "cell_type": "code",
      "metadata": {
        "colab": {
          "base_uri": "https://localhost:8080/",
          "height": 0
        },
        "id": "dsBcyZfPOP8R",
        "outputId": "5078e1b2-7db3-4956-b01d-534ea91e70db"
      },
      "source": [
        "# peep into LA County's data\n",
        "df_cases_LA = df_cases[(df_cases['fips']== '06037')]\n",
        "df_cases_LA[(df_cases_LA['date'] >= '2020-02-01') & (df_cases_LA['date'] <= '2020-02-07')]"
      ],
      "execution_count": 19,
      "outputs": [
        {
          "output_type": "execute_result",
          "data": {
            "text/html": [
              "<div>\n",
              "<style scoped>\n",
              "    .dataframe tbody tr th:only-of-type {\n",
              "        vertical-align: middle;\n",
              "    }\n",
              "\n",
              "    .dataframe tbody tr th {\n",
              "        vertical-align: top;\n",
              "    }\n",
              "\n",
              "    .dataframe thead th {\n",
              "        text-align: right;\n",
              "    }\n",
              "</style>\n",
              "<table border=\"1\" class=\"dataframe\">\n",
              "  <thead>\n",
              "    <tr style=\"text-align: right;\">\n",
              "      <th></th>\n",
              "      <th>date</th>\n",
              "      <th>county</th>\n",
              "      <th>state</th>\n",
              "      <th>fips</th>\n",
              "      <th>cases</th>\n",
              "      <th>deaths</th>\n",
              "      <th>new_cases</th>\n",
              "      <th>growth_rate_7day</th>\n",
              "      <th>growth_rate_14day</th>\n",
              "      <th>new_cases_relative_rate_change</th>\n",
              "      <th>new_cases_relative_rate_change_shift7</th>\n",
              "      <th>growth_rate_of_change</th>\n",
              "    </tr>\n",
              "  </thead>\n",
              "  <tbody>\n",
              "    <tr>\n",
              "      <th>40</th>\n",
              "      <td>2020-02-01</td>\n",
              "      <td>Los Angeles</td>\n",
              "      <td>California</td>\n",
              "      <td>06037</td>\n",
              "      <td>1</td>\n",
              "      <td>0.0</td>\n",
              "      <td>0.0</td>\n",
              "      <td>NaN</td>\n",
              "      <td>NaN</td>\n",
              "      <td>NaN</td>\n",
              "      <td>0.0</td>\n",
              "      <td>NaN</td>\n",
              "    </tr>\n",
              "    <tr>\n",
              "      <th>47</th>\n",
              "      <td>2020-02-02</td>\n",
              "      <td>Los Angeles</td>\n",
              "      <td>California</td>\n",
              "      <td>06037</td>\n",
              "      <td>1</td>\n",
              "      <td>0.0</td>\n",
              "      <td>0.0</td>\n",
              "      <td>NaN</td>\n",
              "      <td>NaN</td>\n",
              "      <td>0.0</td>\n",
              "      <td>NaN</td>\n",
              "      <td>NaN</td>\n",
              "    </tr>\n",
              "    <tr>\n",
              "      <th>55</th>\n",
              "      <td>2020-02-03</td>\n",
              "      <td>Los Angeles</td>\n",
              "      <td>California</td>\n",
              "      <td>06037</td>\n",
              "      <td>1</td>\n",
              "      <td>0.0</td>\n",
              "      <td>0.0</td>\n",
              "      <td>NaN</td>\n",
              "      <td>NaN</td>\n",
              "      <td>0.0</td>\n",
              "      <td>0.0</td>\n",
              "      <td>NaN</td>\n",
              "    </tr>\n",
              "    <tr>\n",
              "      <th>63</th>\n",
              "      <td>2020-02-04</td>\n",
              "      <td>Los Angeles</td>\n",
              "      <td>California</td>\n",
              "      <td>06037</td>\n",
              "      <td>1</td>\n",
              "      <td>0.0</td>\n",
              "      <td>0.0</td>\n",
              "      <td>NaN</td>\n",
              "      <td>NaN</td>\n",
              "      <td>0.0</td>\n",
              "      <td>0.0</td>\n",
              "      <td>NaN</td>\n",
              "    </tr>\n",
              "    <tr>\n",
              "      <th>71</th>\n",
              "      <td>2020-02-05</td>\n",
              "      <td>Los Angeles</td>\n",
              "      <td>California</td>\n",
              "      <td>06037</td>\n",
              "      <td>1</td>\n",
              "      <td>0.0</td>\n",
              "      <td>0.0</td>\n",
              "      <td>NaN</td>\n",
              "      <td>NaN</td>\n",
              "      <td>0.0</td>\n",
              "      <td>0.0</td>\n",
              "      <td>NaN</td>\n",
              "    </tr>\n",
              "    <tr>\n",
              "      <th>80</th>\n",
              "      <td>2020-02-06</td>\n",
              "      <td>Los Angeles</td>\n",
              "      <td>California</td>\n",
              "      <td>06037</td>\n",
              "      <td>1</td>\n",
              "      <td>0.0</td>\n",
              "      <td>0.0</td>\n",
              "      <td>NaN</td>\n",
              "      <td>NaN</td>\n",
              "      <td>0.0</td>\n",
              "      <td>0.0</td>\n",
              "      <td>NaN</td>\n",
              "    </tr>\n",
              "    <tr>\n",
              "      <th>89</th>\n",
              "      <td>2020-02-07</td>\n",
              "      <td>Los Angeles</td>\n",
              "      <td>California</td>\n",
              "      <td>06037</td>\n",
              "      <td>1</td>\n",
              "      <td>0.0</td>\n",
              "      <td>0.0</td>\n",
              "      <td>NaN</td>\n",
              "      <td>NaN</td>\n",
              "      <td>0.0</td>\n",
              "      <td>NaN</td>\n",
              "      <td>NaN</td>\n",
              "    </tr>\n",
              "  </tbody>\n",
              "</table>\n",
              "</div>"
            ],
            "text/plain": [
              "         date  ... growth_rate_of_change\n",
              "40 2020-02-01  ...                   NaN\n",
              "47 2020-02-02  ...                   NaN\n",
              "55 2020-02-03  ...                   NaN\n",
              "63 2020-02-04  ...                   NaN\n",
              "71 2020-02-05  ...                   NaN\n",
              "80 2020-02-06  ...                   NaN\n",
              "89 2020-02-07  ...                   NaN\n",
              "\n",
              "[7 rows x 12 columns]"
            ]
          },
          "metadata": {
            "tags": []
          },
          "execution_count": 19
        }
      ]
    },
    {
      "cell_type": "code",
      "metadata": {
        "colab": {
          "base_uri": "https://localhost:8080/",
          "height": 0
        },
        "id": "TNe4W-bFOXN1",
        "outputId": "27d98ab6-22ea-40fd-da58-c5e90343f7dd"
      },
      "source": [
        "df_cases[(df_cases['fips'] == '06037') & (df_cases['date'] >= '2020-12-01') & (df_cases['date'] <= '2020-12-31')]"
      ],
      "execution_count": 20,
      "outputs": [
        {
          "output_type": "execute_result",
          "data": {
            "text/html": [
              "<div>\n",
              "<style scoped>\n",
              "    .dataframe tbody tr th:only-of-type {\n",
              "        vertical-align: middle;\n",
              "    }\n",
              "\n",
              "    .dataframe tbody tr th {\n",
              "        vertical-align: top;\n",
              "    }\n",
              "\n",
              "    .dataframe thead th {\n",
              "        text-align: right;\n",
              "    }\n",
              "</style>\n",
              "<table border=\"1\" class=\"dataframe\">\n",
              "  <thead>\n",
              "    <tr style=\"text-align: right;\">\n",
              "      <th></th>\n",
              "      <th>date</th>\n",
              "      <th>county</th>\n",
              "      <th>state</th>\n",
              "      <th>fips</th>\n",
              "      <th>cases</th>\n",
              "      <th>deaths</th>\n",
              "      <th>new_cases</th>\n",
              "      <th>growth_rate_7day</th>\n",
              "      <th>growth_rate_14day</th>\n",
              "      <th>new_cases_relative_rate_change</th>\n",
              "      <th>new_cases_relative_rate_change_shift7</th>\n",
              "      <th>growth_rate_of_change</th>\n",
              "    </tr>\n",
              "  </thead>\n",
              "  <tbody>\n",
              "    <tr>\n",
              "      <th>784414</th>\n",
              "      <td>2020-12-01</td>\n",
              "      <td>Los Angeles</td>\n",
              "      <td>California</td>\n",
              "      <td>06037</td>\n",
              "      <td>408515</td>\n",
              "      <td>7700.0</td>\n",
              "      <td>7481.0</td>\n",
              "      <td>1.020649</td>\n",
              "      <td>1.029175</td>\n",
              "      <td>939.285714</td>\n",
              "      <td>6.142857</td>\n",
              "      <td>152.906977</td>\n",
              "    </tr>\n",
              "    <tr>\n",
              "      <th>787658</th>\n",
              "      <td>2020-12-02</td>\n",
              "      <td>Los Angeles</td>\n",
              "      <td>California</td>\n",
              "      <td>06037</td>\n",
              "      <td>414304</td>\n",
              "      <td>7740.0</td>\n",
              "      <td>5789.0</td>\n",
              "      <td>1.020662</td>\n",
              "      <td>1.030984</td>\n",
              "      <td>989.523810</td>\n",
              "      <td>14.428571</td>\n",
              "      <td>68.580858</td>\n",
              "    </tr>\n",
              "    <tr>\n",
              "      <th>790904</th>\n",
              "      <td>2020-12-03</td>\n",
              "      <td>Los Angeles</td>\n",
              "      <td>California</td>\n",
              "      <td>06037</td>\n",
              "      <td>422000</td>\n",
              "      <td>7782.0</td>\n",
              "      <td>7696.0</td>\n",
              "      <td>1.027420</td>\n",
              "      <td>1.041636</td>\n",
              "      <td>1470.523810</td>\n",
              "      <td>6.809524</td>\n",
              "      <td>215.951049</td>\n",
              "    </tr>\n",
              "    <tr>\n",
              "      <th>794150</th>\n",
              "      <td>2020-12-04</td>\n",
              "      <td>Los Angeles</td>\n",
              "      <td>California</td>\n",
              "      <td>06037</td>\n",
              "      <td>430713</td>\n",
              "      <td>7842.0</td>\n",
              "      <td>8713.0</td>\n",
              "      <td>1.021552</td>\n",
              "      <td>1.040604</td>\n",
              "      <td>1267.904762</td>\n",
              "      <td>8.238095</td>\n",
              "      <td>153.907514</td>\n",
              "    </tr>\n",
              "    <tr>\n",
              "      <th>797395</th>\n",
              "      <td>2020-12-05</td>\n",
              "      <td>Los Angeles</td>\n",
              "      <td>California</td>\n",
              "      <td>06037</td>\n",
              "      <td>439538</td>\n",
              "      <td>7886.0</td>\n",
              "      <td>8825.0</td>\n",
              "      <td>1.021848</td>\n",
              "      <td>1.048420</td>\n",
              "      <td>1477.904762</td>\n",
              "      <td>-1.761905</td>\n",
              "      <td>-838.810811</td>\n",
              "    </tr>\n",
              "    <tr>\n",
              "      <th>800641</th>\n",
              "      <td>2020-12-06</td>\n",
              "      <td>Los Angeles</td>\n",
              "      <td>California</td>\n",
              "      <td>06037</td>\n",
              "      <td>449982</td>\n",
              "      <td>7909.0</td>\n",
              "      <td>10444.0</td>\n",
              "      <td>1.021160</td>\n",
              "      <td>1.048765</td>\n",
              "      <td>1609.476190</td>\n",
              "      <td>-16.428571</td>\n",
              "      <td>-97.968116</td>\n",
              "    </tr>\n",
              "    <tr>\n",
              "      <th>803887</th>\n",
              "      <td>2020-12-07</td>\n",
              "      <td>Los Angeles</td>\n",
              "      <td>California</td>\n",
              "      <td>06037</td>\n",
              "      <td>458011</td>\n",
              "      <td>7936.0</td>\n",
              "      <td>8029.0</td>\n",
              "      <td>1.012379</td>\n",
              "      <td>1.043273</td>\n",
              "      <td>959.761905</td>\n",
              "      <td>0.190476</td>\n",
              "      <td>5038.750000</td>\n",
              "    </tr>\n",
              "    <tr>\n",
              "      <th>807132</th>\n",
              "      <td>2020-12-08</td>\n",
              "      <td>Los Angeles</td>\n",
              "      <td>California</td>\n",
              "      <td>06037</td>\n",
              "      <td>466459</td>\n",
              "      <td>8000.0</td>\n",
              "      <td>8448.0</td>\n",
              "      <td>1.008949</td>\n",
              "      <td>1.035152</td>\n",
              "      <td>695.952381</td>\n",
              "      <td>9.857143</td>\n",
              "      <td>70.603865</td>\n",
              "    </tr>\n",
              "    <tr>\n",
              "      <th>810377</th>\n",
              "      <td>2020-12-09</td>\n",
              "      <td>Los Angeles</td>\n",
              "      <td>California</td>\n",
              "      <td>06037</td>\n",
              "      <td>475409</td>\n",
              "      <td>8075.0</td>\n",
              "      <td>8950.0</td>\n",
              "      <td>0.996751</td>\n",
              "      <td>1.022805</td>\n",
              "      <td>-253.619048</td>\n",
              "      <td>19.095238</td>\n",
              "      <td>-13.281796</td>\n",
              "    </tr>\n",
              "    <tr>\n",
              "      <th>813621</th>\n",
              "      <td>2020-12-10</td>\n",
              "      <td>Los Angeles</td>\n",
              "      <td>California</td>\n",
              "      <td>06037</td>\n",
              "      <td>488055</td>\n",
              "      <td>8149.0</td>\n",
              "      <td>12646.0</td>\n",
              "      <td>1.006498</td>\n",
              "      <td>1.032757</td>\n",
              "      <td>578.238095</td>\n",
              "      <td>2.142857</td>\n",
              "      <td>269.844444</td>\n",
              "    </tr>\n",
              "    <tr>\n",
              "      <th>816867</th>\n",
              "      <td>2020-12-11</td>\n",
              "      <td>Los Angeles</td>\n",
              "      <td>California</td>\n",
              "      <td>06037</td>\n",
              "      <td>501792</td>\n",
              "      <td>8199.0</td>\n",
              "      <td>13737.0</td>\n",
              "      <td>1.016077</td>\n",
              "      <td>1.040986</td>\n",
              "      <td>1623.523810</td>\n",
              "      <td>0.333333</td>\n",
              "      <td>4870.571429</td>\n",
              "    </tr>\n",
              "    <tr>\n",
              "      <th>820113</th>\n",
              "      <td>2020-12-12</td>\n",
              "      <td>Los Angeles</td>\n",
              "      <td>California</td>\n",
              "      <td>06037</td>\n",
              "      <td>513029</td>\n",
              "      <td>8269.0</td>\n",
              "      <td>11237.0</td>\n",
              "      <td>1.019189</td>\n",
              "      <td>1.040092</td>\n",
              "      <td>2041.285714</td>\n",
              "      <td>-8.333333</td>\n",
              "      <td>-244.954286</td>\n",
              "    </tr>\n",
              "    <tr>\n",
              "      <th>823359</th>\n",
              "      <td>2020-12-13</td>\n",
              "      <td>Los Angeles</td>\n",
              "      <td>California</td>\n",
              "      <td>06037</td>\n",
              "      <td>525651</td>\n",
              "      <td>8298.0</td>\n",
              "      <td>12622.0</td>\n",
              "      <td>1.015916</td>\n",
              "      <td>1.033082</td>\n",
              "      <td>1722.142857</td>\n",
              "      <td>-19.000000</td>\n",
              "      <td>-90.639098</td>\n",
              "    </tr>\n",
              "    <tr>\n",
              "      <th>826606</th>\n",
              "      <td>2020-12-14</td>\n",
              "      <td>Los Angeles</td>\n",
              "      <td>California</td>\n",
              "      <td>06037</td>\n",
              "      <td>532895</td>\n",
              "      <td>8345.0</td>\n",
              "      <td>7244.0</td>\n",
              "      <td>0.996622</td>\n",
              "      <td>1.010491</td>\n",
              "      <td>-330.047619</td>\n",
              "      <td>-6.238095</td>\n",
              "      <td>52.908397</td>\n",
              "    </tr>\n",
              "    <tr>\n",
              "      <th>829852</th>\n",
              "      <td>2020-12-15</td>\n",
              "      <td>Los Angeles</td>\n",
              "      <td>California</td>\n",
              "      <td>06037</td>\n",
              "      <td>543949</td>\n",
              "      <td>8431.0</td>\n",
              "      <td>11054.0</td>\n",
              "      <td>0.992327</td>\n",
              "      <td>1.006904</td>\n",
              "      <td>-763.333333</td>\n",
              "      <td>3.714286</td>\n",
              "      <td>-205.512821</td>\n",
              "    </tr>\n",
              "    <tr>\n",
              "      <th>833099</th>\n",
              "      <td>2020-12-16</td>\n",
              "      <td>Los Angeles</td>\n",
              "      <td>California</td>\n",
              "      <td>06037</td>\n",
              "      <td>566185</td>\n",
              "      <td>8568.0</td>\n",
              "      <td>22236.0</td>\n",
              "      <td>1.004334</td>\n",
              "      <td>1.023622</td>\n",
              "      <td>543.333333</td>\n",
              "      <td>14.285714</td>\n",
              "      <td>38.033333</td>\n",
              "    </tr>\n",
              "    <tr>\n",
              "      <th>836345</th>\n",
              "      <td>2020-12-17</td>\n",
              "      <td>Los Angeles</td>\n",
              "      <td>California</td>\n",
              "      <td>06037</td>\n",
              "      <td>580505</td>\n",
              "      <td>8664.0</td>\n",
              "      <td>14320.0</td>\n",
              "      <td>1.019357</td>\n",
              "      <td>1.036178</td>\n",
              "      <td>2662.857143</td>\n",
              "      <td>0.761905</td>\n",
              "      <td>3495.000000</td>\n",
              "    </tr>\n",
              "    <tr>\n",
              "      <th>839590</th>\n",
              "      <td>2020-12-18</td>\n",
              "      <td>Los Angeles</td>\n",
              "      <td>California</td>\n",
              "      <td>06037</td>\n",
              "      <td>596910</td>\n",
              "      <td>8757.0</td>\n",
              "      <td>16405.0</td>\n",
              "      <td>1.027502</td>\n",
              "      <td>1.042297</td>\n",
              "      <td>4065.380952</td>\n",
              "      <td>-0.285714</td>\n",
              "      <td>-14228.833333</td>\n",
              "    </tr>\n",
              "    <tr>\n",
              "      <th>842835</th>\n",
              "      <td>2020-12-19</td>\n",
              "      <td>Los Angeles</td>\n",
              "      <td>California</td>\n",
              "      <td>06037</td>\n",
              "      <td>610562</td>\n",
              "      <td>8817.0</td>\n",
              "      <td>13652.0</td>\n",
              "      <td>1.006270</td>\n",
              "      <td>1.020335</td>\n",
              "      <td>859.047619</td>\n",
              "      <td>-12.285714</td>\n",
              "      <td>-69.922481</td>\n",
              "    </tr>\n",
              "    <tr>\n",
              "      <th>846081</th>\n",
              "      <td>2020-12-20</td>\n",
              "      <td>Los Angeles</td>\n",
              "      <td>California</td>\n",
              "      <td>06037</td>\n",
              "      <td>623875</td>\n",
              "      <td>8875.0</td>\n",
              "      <td>13313.0</td>\n",
              "      <td>1.003122</td>\n",
              "      <td>1.016100</td>\n",
              "      <td>424.666667</td>\n",
              "      <td>-17.952381</td>\n",
              "      <td>-23.655172</td>\n",
              "    </tr>\n",
              "    <tr>\n",
              "      <th>849326</th>\n",
              "      <td>2020-12-21</td>\n",
              "      <td>Los Angeles</td>\n",
              "      <td>California</td>\n",
              "      <td>06037</td>\n",
              "      <td>635058</td>\n",
              "      <td>8931.0</td>\n",
              "      <td>11183.0</td>\n",
              "      <td>0.985629</td>\n",
              "      <td>1.000583</td>\n",
              "      <td>-1878.714286</td>\n",
              "      <td>8.380952</td>\n",
              "      <td>-224.164773</td>\n",
              "    </tr>\n",
              "    <tr>\n",
              "      <th>852571</th>\n",
              "      <td>2020-12-22</td>\n",
              "      <td>Los Angeles</td>\n",
              "      <td>California</td>\n",
              "      <td>06037</td>\n",
              "      <td>647766</td>\n",
              "      <td>9016.0</td>\n",
              "      <td>12708.0</td>\n",
              "      <td>0.981372</td>\n",
              "      <td>0.995424</td>\n",
              "      <td>-2429.666667</td>\n",
              "      <td>14.380952</td>\n",
              "      <td>-168.950331</td>\n",
              "    </tr>\n",
              "    <tr>\n",
              "      <th>855816</th>\n",
              "      <td>2020-12-23</td>\n",
              "      <td>Los Angeles</td>\n",
              "      <td>California</td>\n",
              "      <td>06037</td>\n",
              "      <td>664193</td>\n",
              "      <td>9153.0</td>\n",
              "      <td>16427.0</td>\n",
              "      <td>0.995710</td>\n",
              "      <td>0.999647</td>\n",
              "      <td>-561.809524</td>\n",
              "      <td>24.666667</td>\n",
              "      <td>-22.776062</td>\n",
              "    </tr>\n",
              "    <tr>\n",
              "      <th>859061</th>\n",
              "      <td>2020-12-24</td>\n",
              "      <td>Los Angeles</td>\n",
              "      <td>California</td>\n",
              "      <td>06037</td>\n",
              "      <td>677538</td>\n",
              "      <td>9299.0</td>\n",
              "      <td>13345.0</td>\n",
              "      <td>1.002231</td>\n",
              "      <td>1.004749</td>\n",
              "      <td>298.142857</td>\n",
              "      <td>-10.571429</td>\n",
              "      <td>-28.202703</td>\n",
              "    </tr>\n",
              "    <tr>\n",
              "      <th>862306</th>\n",
              "      <td>2020-12-25</td>\n",
              "      <td>Los Angeles</td>\n",
              "      <td>California</td>\n",
              "      <td>06037</td>\n",
              "      <td>677538</td>\n",
              "      <td>9299.0</td>\n",
              "      <td>0.0</td>\n",
              "      <td>0.984069</td>\n",
              "      <td>0.975097</td>\n",
              "      <td>-1594.285714</td>\n",
              "      <td>-12.714286</td>\n",
              "      <td>125.393258</td>\n",
              "    </tr>\n",
              "    <tr>\n",
              "      <th>865551</th>\n",
              "      <td>2020-12-26</td>\n",
              "      <td>Los Angeles</td>\n",
              "      <td>California</td>\n",
              "      <td>06037</td>\n",
              "      <td>706712</td>\n",
              "      <td>9438.0</td>\n",
              "      <td>29174.0</td>\n",
              "      <td>1.003289</td>\n",
              "      <td>1.002535</td>\n",
              "      <td>437.285714</td>\n",
              "      <td>-13.142857</td>\n",
              "      <td>-33.271739</td>\n",
              "    </tr>\n",
              "    <tr>\n",
              "      <th>868796</th>\n",
              "      <td>2020-12-27</td>\n",
              "      <td>Los Angeles</td>\n",
              "      <td>California</td>\n",
              "      <td>06037</td>\n",
              "      <td>720099</td>\n",
              "      <td>9482.0</td>\n",
              "      <td>13387.0</td>\n",
              "      <td>1.003312</td>\n",
              "      <td>1.002224</td>\n",
              "      <td>440.714286</td>\n",
              "      <td>-13.142857</td>\n",
              "      <td>-33.532609</td>\n",
              "    </tr>\n",
              "    <tr>\n",
              "      <th>872041</th>\n",
              "      <td>2020-12-28</td>\n",
              "      <td>Los Angeles</td>\n",
              "      <td>California</td>\n",
              "      <td>06037</td>\n",
              "      <td>733612</td>\n",
              "      <td>9555.0</td>\n",
              "      <td>13513.0</td>\n",
              "      <td>1.029664</td>\n",
              "      <td>1.027712</td>\n",
              "      <td>4612.190476</td>\n",
              "      <td>15.000000</td>\n",
              "      <td>307.479365</td>\n",
              "    </tr>\n",
              "    <tr>\n",
              "      <th>875286</th>\n",
              "      <td>2020-12-29</td>\n",
              "      <td>Los Angeles</td>\n",
              "      <td>California</td>\n",
              "      <td>06037</td>\n",
              "      <td>746381</td>\n",
              "      <td>9782.0</td>\n",
              "      <td>12769.0</td>\n",
              "      <td>0.993368</td>\n",
              "      <td>0.990668</td>\n",
              "      <td>-864.857143</td>\n",
              "      <td>7.619048</td>\n",
              "      <td>-113.512500</td>\n",
              "    </tr>\n",
              "    <tr>\n",
              "      <th>878531</th>\n",
              "      <td>2020-12-30</td>\n",
              "      <td>Los Angeles</td>\n",
              "      <td>California</td>\n",
              "      <td>06037</td>\n",
              "      <td>756412</td>\n",
              "      <td>10056.0</td>\n",
              "      <td>10031.0</td>\n",
              "      <td>0.991072</td>\n",
              "      <td>0.987853</td>\n",
              "      <td>-1069.809524</td>\n",
              "      <td>21.571429</td>\n",
              "      <td>-49.593819</td>\n",
              "    </tr>\n",
              "    <tr>\n",
              "      <th>881776</th>\n",
              "      <td>2020-12-31</td>\n",
              "      <td>Los Angeles</td>\n",
              "      <td>California</td>\n",
              "      <td>06037</td>\n",
              "      <td>770915</td>\n",
              "      <td>10345.0</td>\n",
              "      <td>14503.0</td>\n",
              "      <td>0.992602</td>\n",
              "      <td>0.990580</td>\n",
              "      <td>-905.238095</td>\n",
              "      <td>6.857143</td>\n",
              "      <td>-132.013889</td>\n",
              "    </tr>\n",
              "  </tbody>\n",
              "</table>\n",
              "</div>"
            ],
            "text/plain": [
              "             date  ... growth_rate_of_change\n",
              "784414 2020-12-01  ...            152.906977\n",
              "787658 2020-12-02  ...             68.580858\n",
              "790904 2020-12-03  ...            215.951049\n",
              "794150 2020-12-04  ...            153.907514\n",
              "797395 2020-12-05  ...           -838.810811\n",
              "800641 2020-12-06  ...            -97.968116\n",
              "803887 2020-12-07  ...           5038.750000\n",
              "807132 2020-12-08  ...             70.603865\n",
              "810377 2020-12-09  ...            -13.281796\n",
              "813621 2020-12-10  ...            269.844444\n",
              "816867 2020-12-11  ...           4870.571429\n",
              "820113 2020-12-12  ...           -244.954286\n",
              "823359 2020-12-13  ...            -90.639098\n",
              "826606 2020-12-14  ...             52.908397\n",
              "829852 2020-12-15  ...           -205.512821\n",
              "833099 2020-12-16  ...             38.033333\n",
              "836345 2020-12-17  ...           3495.000000\n",
              "839590 2020-12-18  ...         -14228.833333\n",
              "842835 2020-12-19  ...            -69.922481\n",
              "846081 2020-12-20  ...            -23.655172\n",
              "849326 2020-12-21  ...           -224.164773\n",
              "852571 2020-12-22  ...           -168.950331\n",
              "855816 2020-12-23  ...            -22.776062\n",
              "859061 2020-12-24  ...            -28.202703\n",
              "862306 2020-12-25  ...            125.393258\n",
              "865551 2020-12-26  ...            -33.271739\n",
              "868796 2020-12-27  ...            -33.532609\n",
              "872041 2020-12-28  ...            307.479365\n",
              "875286 2020-12-29  ...           -113.512500\n",
              "878531 2020-12-30  ...            -49.593819\n",
              "881776 2020-12-31  ...           -132.013889\n",
              "\n",
              "[31 rows x 12 columns]"
            ]
          },
          "metadata": {
            "tags": []
          },
          "execution_count": 20
        }
      ]
    },
    {
      "cell_type": "code",
      "metadata": {
        "colab": {
          "base_uri": "https://localhost:8080/",
          "height": 0
        },
        "id": "kusePbIsOijJ",
        "outputId": "d1a34d93-d2be-4e06-f122-1803073d521d"
      },
      "source": [
        "date = df_cases_LA['date'].astype('O')\n",
        "fig, ax = plt.subplots()\n",
        "ax.plot(date, df_cases_LA['growth_rate_7day'], label = \"Growth Ratio with 7 Day Baseline\")\n",
        "ax.plot(date, df_cases_LA['growth_rate_14day'], label = \"Growth Ratio with 14 Day Baseline\")\n",
        "\n",
        "# rotate and align the tick labels\n",
        "fig.autofmt_xdate()\n",
        "\n",
        "# fix date string\n",
        "ax.fmt_xdata = mdates.DateFormatter('%Y-%m-%d')\n",
        "\n",
        "# add labels\n",
        "ax.set_title('COVID-19 Case Growth Ratios Per Day for LA County')\n",
        "ax.set_xlabel('Date')\n",
        "ax.set_ylabel('Case Growth Ratio')\n",
        "\n",
        "# add legend\n",
        "handles, labels = ax.get_legend_handles_labels()\n",
        "ax.legend(handles[::-1], labels[::-1])\n",
        "\n",
        "plt.show()"
      ],
      "execution_count": 21,
      "outputs": [
        {
          "output_type": "display_data",
          "data": {
            "image/png": "[encoded data removed]",
            "text/plain": [
              "<Figure size 432x288 with 1 Axes>"
            ]
          },
          "metadata": {
            "tags": [],
            "needs_background": "light"
          }
        }
      ]
    },
    {
      "cell_type": "markdown",
      "metadata": {
        "id": "eQkiA3JhSMOp"
      },
      "source": [
        "### Graph All Data"
      ]
    },
    {
      "cell_type": "code",
      "metadata": {
        "colab": {
          "base_uri": "https://localhost:8080/",
          "height": 307
        },
        "id": "A2RBY7xz7n5R",
        "outputId": "96f67093-8747-4146-f5d2-4acf7b280ce5"
      },
      "source": [
        "total_cases = df_cases.groupby('date').agg({'new_cases': 'sum'})\n",
        "total_cases.plot(legend = None)\n",
        "plt.title(\"New Cases by Day in United States\")\n",
        "plt.xlabel('Date')\n",
        "plt.ylabel('Number of Cases')\n",
        "plt.show()"
      ],
      "execution_count": 22,
      "outputs": [
        {
          "output_type": "display_data",
          "data": {
            "image/png": "[encoded data removed]",
            "text/plain": [
              "<Figure size 432x288 with 1 Axes>"
            ]
          },
          "metadata": {
            "tags": [],
            "needs_background": "light"
          }
        }
      ]
    },
    {
      "cell_type": "code",
      "metadata": {
        "id": "-vcj4hIEAuWb",
        "colab": {
          "base_uri": "https://localhost:8080/",
          "height": 307
        },
        "outputId": "37afa8a7-2059-45f9-bef0-81e2ded85b0c"
      },
      "source": [
        "mean_num_cases = df_cases.groupby('date').agg({'new_cases': 'mean'})\n",
        "mean_num_cases.plot(legend = None)\n",
        "plt.title(\"Average Number of New Cases by Day in United States\")\n",
        "plt.xlabel('Date')\n",
        "plt.ylabel('Number of Cases')\n",
        "plt.show()"
      ],
      "execution_count": 23,
      "outputs": [
        {
          "output_type": "display_data",
          "data": {
            "image/png": "[encoded data removed]",
            "text/plain": [
              "<Figure size 432x288 with 1 Axes>"
            ]
          },
          "metadata": {
            "tags": [],
            "needs_background": "light"
          }
        }
      ]
    },
    {
      "cell_type": "code",
      "metadata": {
        "id": "tJJ5CMk6AOGZ",
        "colab": {
          "base_uri": "https://localhost:8080/",
          "height": 293
        },
        "outputId": "b05babb7-f9d0-4263-d59d-501ebdf0e1df"
      },
      "source": [
        "mean_growth_rate_7day = df_cases.groupby('date').agg({'growth_rate_7day': 'mean'}).reset_index()\n",
        "mean_growth_rate_14day = df_cases.groupby('date').agg({'growth_rate_14day': 'mean'}).reset_index()\n",
        "mean_growth_rate_7day = mean_growth_rate_7day.rename(columns = {'growth_rate_7day': 'mean_growth_rate_7day'})\n",
        "mean_growth_rate_14day = mean_growth_rate_14day.rename(columns = {'growth_rate_14day': 'mean_growth_rate_14day'})\n",
        "\n",
        "fig, ax = plt.subplots()\n",
        "ax.plot(mean_growth_rate_7day['date'], mean_growth_rate_7day['mean_growth_rate_7day'], label = \"Growth Ratio with 7 Day Baseline\")\n",
        "ax.plot(mean_growth_rate_14day['date'], mean_growth_rate_14day['mean_growth_rate_14day'], label = \"Growth Ratio with 14 Day Baseline\")\n",
        "\n",
        "# rotate and align the tick labels\n",
        "fig.autofmt_xdate()\n",
        "\n",
        "# fix date string\n",
        "ax.fmt_xdata = mdates.DateFormatter('%Y-%m-%d')\n",
        "\n",
        "# add labels\n",
        "ax.set_title('Average COVID-19 Case Growth Ratios of All Counties in United States')\n",
        "ax.set_xlabel('Date')\n",
        "ax.set_ylabel('Case Growth Ratio')\n",
        "\n",
        "# add legend\n",
        "handles, labels = ax.get_legend_handles_labels()\n",
        "ax.legend(handles[::-1], labels[::-1])\n",
        "\n",
        "plt.show()"
      ],
      "execution_count": 24,
      "outputs": [
        {
          "output_type": "display_data",
          "data": {
            "image/png": "[encoded data removed]",
            "text/plain": [
              "<Figure size 432x288 with 1 Axes>"
            ]
          },
          "metadata": {
            "tags": [],
            "needs_background": "light"
          }
        }
      ]
    },
    {
      "cell_type": "code",
      "metadata": {
        "colab": {
          "base_uri": "https://localhost:8080/",
          "height": 279
        },
        "id": "AYNf2yZbOSQQ",
        "outputId": "5c815b3a-ffce-454d-d910-ff090e48db5a"
      },
      "source": [
        "mean_growth_rate_of_change = df_cases.groupby('date').agg({'growth_rate_of_change': 'mean'}).reset_index()\n",
        "mean_growth_rate_of_change = mean_growth_rate_of_change.rename(columns = {'growth_rate_of_change': 'mean_growth_rate_of_change'})\n",
        "\n",
        "fig, ax = plt.subplots()\n",
        "ax.plot(mean_growth_rate_of_change['date'], mean_growth_rate_of_change['mean_growth_rate_of_change'], label = \"Growth Rate of Change\")\n",
        "\n",
        "# rotate and align the tick labels\n",
        "fig.autofmt_xdate()\n",
        "\n",
        "# fix date string\n",
        "ax.fmt_xdata = mdates.DateFormatter('%Y-%m-%d')\n",
        "\n",
        "ax.set_xlabel('Date')\n",
        "ax.set_ylabel('Case Growth Ratio')\n",
        "\n",
        "plt.show()"
      ],
      "execution_count": 25,
      "outputs": [
        {
          "output_type": "display_data",
          "data": {
            "image/png": "[encoded data removed]",
            "text/plain": [
              "<Figure size 432x288 with 1 Axes>"
            ]
          },
          "metadata": {
            "tags": [],
            "needs_background": "light"
          }
        }
      ]
    },
    {
      "cell_type": "code",
      "metadata": {
        "id": "9OH7U5EIcjez"
      },
      "source": [
        "df_cases_april = df_cases[(df_cases['date'] >= '2020-04-01') & (df_cases['date'] <= '2020-04-30')]\n",
        "df_cases_april.to_csv('/content/drive/My Drive/Princeton/Independent Work/covid19/covid_data_april.csv')"
      ],
      "execution_count": null,
      "outputs": []
    },
    {
      "cell_type": "code",
      "metadata": {
        "id": "NTNTDW_hlZOx"
      },
      "source": [
        "df_cases_december = df_cases[(df_cases['date'] >= '2020-12-01') & (df_cases['date'] <= '2020-12-26')]\n",
        "df_cases_december.to_csv('/content/drive/My Drive/Princeton/Independent Work/covid19/covid_data_december.csv')"
      ],
      "execution_count": null,
      "outputs": []
    },
    {
      "cell_type": "markdown",
      "metadata": {
        "id": "FyN_rPuZ0c5D"
      },
      "source": [
        "# Mobility Data\n",
        "Load and prepare mobility data. Caculate mobility trends against a baseline from month of January."
      ]
    },
    {
      "cell_type": "markdown",
      "metadata": {
        "id": "IPowOmAwqyT8"
      },
      "source": [
        "## Load and Clean Data"
      ]
    },
    {
      "cell_type": "code",
      "metadata": {
        "id": "ViWxBV2HbmPQ"
      },
      "source": [
        "# load file\n",
        "mobility_path = \"./data/dot_mobility_dataset.csv\"\n",
        "df_mobility = pd.read_csv(mobility_path, parse_dates=[1])\n",
        "df_mobility.info()\n",
        "df_mobility.head()"
      ],
      "execution_count": null,
      "outputs": []
    },
    {
      "cell_type": "code",
      "metadata": {
        "id": "yZOWJZ-Z4-ut"
      },
      "source": [
        "# remove all rows that are not \"county\" rows or have a date that is from 2019\n",
        "df_mobility = df_mobility[(df_mobility['Date'] >= '2020-01-01') & (df_mobility['Level'] == 'County')].reset_index()\n",
        "del df_mobility['index']\n",
        "del df_mobility['Level']\n",
        "df_mobility[\"Date\"].min()"
      ],
      "execution_count": null,
      "outputs": []
    },
    {
      "cell_type": "markdown",
      "metadata": {
        "id": "E7ARWPeQq0c8"
      },
      "source": [
        "### Fix FIPS Code"
      ]
    },
    {
      "cell_type": "code",
      "metadata": {
        "id": "5u3gnQIRqZMt"
      },
      "source": [
        "us_state_abbrev = {\n",
        "    'AL': 'Alabama',\n",
        "    'AK': 'Alaska',\n",
        "    'AZ': 'Arizona',\n",
        "    'AR': 'Arkansas',\n",
        "    'CA': 'California',\n",
        "    'CO': 'Colorado',\n",
        "    'CT': 'Connecticut',\n",
        "    'DC': 'District of Columbia',\n",
        "    'DE': 'Delaware',\n",
        "    'FL': 'Florida',\n",
        "    'GA': 'Georgia',\n",
        "    'HI': 'Hawaii',\n",
        "    'ID': 'Idaho',\n",
        "    'IL': 'Illinois',\n",
        "    'IN': 'Indiana',\n",
        "    'IA': 'Iowa',\n",
        "    'KS': 'Kansas',\n",
        "    'KY': 'Kentucky',\n",
        "    'LA': 'Louisiana',\n",
        "    'ME': 'Maine',\n",
        "    'MD': 'Maryland',\n",
        "    'MA': 'Massachusetts',\n",
        "    'MI': 'Michigan',\n",
        "    'MN': 'Minnesota',\n",
        "    'MS': 'Mississippi',\n",
        "    'MO': 'Missouri',\n",
        "    'MT': 'Montana',\n",
        "    'NE': 'Nebraska',\n",
        "    'NV': 'Nevada',\n",
        "    'NH': 'New Hampshire',\n",
        "    'NJ': 'New Jersey',\n",
        "    'NM': 'New Mexico',\n",
        "    'NY': 'New York',\n",
        "    'NC': 'North Carolina',\n",
        "    'ND': 'North Dakota',\n",
        "    'OH': 'Ohio',\n",
        "    'OK': 'Oklahoma',\n",
        "    'OR': 'Oregon',\n",
        "    'PA': 'Pennsylvania',\n",
        "    'RI': 'Rhode Island',\n",
        "    'SC': 'South Carolina',\n",
        "    'SD': 'South Dakota',\n",
        "    'TN': 'Tennessee',\n",
        "    'TX': 'Texas',\n",
        "    'UT': 'Utah',\n",
        "    'VT': 'Vermont',\n",
        "    'VA': 'Virginia',\n",
        "    'WA': 'Washington',\n",
        "    'WV': 'West Virginia',\n",
        "    'WI': 'Wisconsin',\n",
        "    'WY': 'Wyoming',\n",
        "}"
      ],
      "execution_count": null,
      "outputs": []
    },
    {
      "cell_type": "code",
      "metadata": {
        "id": "tyCfhmAzn0N2"
      },
      "source": [
        "# change abbreviations to state name\n",
        "df_mobility['State Postal Code'].replace(us_state_abbrev, inplace=True, regex=True)\n",
        "\n",
        "# remove \"county\" from county name\n",
        "df_mobility['County Name'] = df_mobility['County Name'].str.replace(' County', '', regex=True)\n",
        "\n",
        "# rename columns\n",
        "df_mobility = df_mobility.rename(columns = {'State Postal Code': 'State', 'County Name': 'County'})\n",
        "\n",
        "# drop FIPS columns\n",
        "del df_mobility['County FIPS']\n",
        "del df_mobility['State FIPS']\n",
        "\n",
        "df_mobility.head()"
      ],
      "execution_count": null,
      "outputs": []
    },
    {
      "cell_type": "code",
      "metadata": {
        "id": "qe8bgMfaApSg"
      },
      "source": [
        "df_mobility[(df_mobility['State'] == 'New York') & (df_mobility['Date'] == '2020-12-01')]"
      ],
      "execution_count": null,
      "outputs": []
    },
    {
      "cell_type": "code",
      "metadata": {
        "id": "xdiYLKJ2CTT2"
      },
      "source": [
        "df_mobility[(df_mobility['State'] == 'Rhode Island') & (df_mobility['Date'] == '2020-12-01')]"
      ],
      "execution_count": null,
      "outputs": []
    },
    {
      "cell_type": "code",
      "metadata": {
        "id": "i4gaTjBlv-QO"
      },
      "source": [
        "# get fips from covid case dataset\n",
        "df_fips = df_cases.drop_duplicates('fips')\n",
        "df_fips = df_fips[['county', 'state', 'fips']]\n",
        "\n",
        "# add metropolitan areas that were clumped together\n",
        "df_fips = df_fips.append(pd.DataFrame(np.array([['Bristol', 'Rhode Island', '44002'],\n",
        "                                      ['Kent', 'Rhode Island', '44002'],\n",
        "                                      ['Newport', 'Rhode Island', '44002'],\n",
        "                                      ['Providence', 'Rhode Island', '44002'],\n",
        "                                      ['Washington', 'Rhode Island', '44002'],\n",
        "                                      ['Bronx', 'New York', '36061'],\n",
        "                                      ['Kings', 'New York', '36061'],\n",
        "                                      ['New York', 'New York', '36061'],\n",
        "                                      ['Queens', 'New York', '36061'],\n",
        "                                      ['Richmond', 'New York', '36061'],\n",
        "                                      ['Cass', 'Missouri', '29095'],\n",
        "                                      ['Clay', 'Missouri', '29095'],\n",
        "                                      ['Jackson', 'Missouri', '29095'],\n",
        "                                      ['Platte', 'Missouri', '29095']]),\n",
        "                            columns = ['county', 'state', 'fips']))\n",
        "df_fips = df_fips.reset_index()\n",
        "df_fips"
      ],
      "execution_count": null,
      "outputs": []
    },
    {
      "cell_type": "code",
      "metadata": {
        "id": "fj8CzjbjbSge"
      },
      "source": [
        "# merge with mobility data\n",
        "df_mobility = df_mobility.merge(df_fips, left_on = ['State', 'County'], right_on = ['state', 'county'])\n",
        "del df_mobility['county']\n",
        "del df_mobility['state']\n",
        "df_mobility = df_mobility.rename(columns = {'fips': 'FIPS'})\n",
        "df_mobility.head()"
      ],
      "execution_count": null,
      "outputs": []
    },
    {
      "cell_type": "code",
      "metadata": {
        "id": "jG6qyORLdCCt"
      },
      "source": [
        "df_mobility[df_mobility['FIPS'] == '36061']"
      ],
      "execution_count": null,
      "outputs": []
    },
    {
      "cell_type": "markdown",
      "metadata": {
        "id": "ECpyG1nlqrE_"
      },
      "source": [
        "## Subset Data into Baseline and Pandemic"
      ]
    },
    {
      "cell_type": "code",
      "metadata": {
        "id": "MePpoeVA62lX"
      },
      "source": [
        "# subset month of January as baseline for movement trends\n",
        "df_mobility['Day'] = df_mobility['Date'].dt.day\n",
        "df_mobility_baseline = df_mobility[(df_mobility['Date'] >= '2020-01-01') & (df_mobility['Date'] <= '2020-01-31')]\n",
        "df_mobility_pandemic = df_mobility[(df_mobility['Date'] >= '2020-02-01')]"
      ],
      "execution_count": null,
      "outputs": []
    },
    {
      "cell_type": "code",
      "metadata": {
        "id": "-BFznUVUiCro"
      },
      "source": [
        "# populate pandemic dataframe with the corresponding baseline (number of trips on that day), according to the county name, state, and day of the month\n",
        "df_mobility_baseline_compact = df_mobility_baseline[['State', 'County', 'Day', 'Number of Trips']]\n",
        "df_mobility_pandemic = df_mobility_pandemic.merge(df_mobility_baseline_compact, left_on=['State', 'County', 'Day'], right_on=['State', 'County', 'Day'])\n",
        "df_mobility_pandemic.rename(columns = {'Number of Trips_x': 'Number of Trips during Pandemic', 'Number of Trips_y': 'Number of Trips Baseline'}, inplace = True)"
      ],
      "execution_count": null,
      "outputs": []
    },
    {
      "cell_type": "markdown",
      "metadata": {
        "id": "fPCVjBBcil8Q"
      },
      "source": [
        "### Calculate Total Population Being Tracked"
      ]
    },
    {
      "cell_type": "code",
      "metadata": {
        "id": "Aiymj5vGIOzm"
      },
      "source": [
        "sum = df_mobility_pandemic[['Date', 'Population Staying at Home', 'Population Not Staying at Home']].groupby(\"Date\").sum()\n",
        "sum\n"
      ],
      "execution_count": null,
      "outputs": []
    },
    {
      "cell_type": "code",
      "metadata": {
        "id": "IRGPZpHVI_Bf"
      },
      "source": [
        "total_population = sum['Population Staying at Home'] + sum['Population Not Staying at Home']\n",
        "total_population.mean()"
      ],
      "execution_count": null,
      "outputs": []
    },
    {
      "cell_type": "markdown",
      "metadata": {
        "id": "Rhj7nabMqhVe"
      },
      "source": [
        "## Compute Mobility Ratios"
      ]
    },
    {
      "cell_type": "markdown",
      "metadata": {
        "id": "XVn9RA1B6JbE"
      },
      "source": [
        "### Average Baseline of January"
      ]
    },
    {
      "cell_type": "code",
      "metadata": {
        "id": "Gv_Khl4BhqbA"
      },
      "source": [
        "baseline_value = df_mobility_baseline_compact['Number of Trips'].mean()\n",
        "baseline_value"
      ],
      "execution_count": null,
      "outputs": []
    },
    {
      "cell_type": "code",
      "metadata": {
        "id": "VU87PIuRhwXk"
      },
      "source": [
        "# calculate mobility ratio\n",
        "df_mobility_pandemic['mobility_ratio_avg_baseline'] = df_mobility_pandemic['Number of Trips during Pandemic']/baseline_value\n",
        "df_mobility_pandemic"
      ],
      "execution_count": null,
      "outputs": []
    },
    {
      "cell_type": "markdown",
      "metadata": {
        "id": "ZekmIokE6R4c"
      },
      "source": [
        "### Corresponding Day Baseline"
      ]
    },
    {
      "cell_type": "code",
      "metadata": {
        "id": "OOyvatwImotS"
      },
      "source": [
        "# calculate mobility ratio\n",
        "df_mobility_pandemic['mobility_ratio_corres_baseline'] = df_mobility_pandemic['Number of Trips during Pandemic']/df_mobility_pandemic['Number of Trips Baseline']\n",
        "df_mobility_pandemic"
      ],
      "execution_count": null,
      "outputs": []
    },
    {
      "cell_type": "markdown",
      "metadata": {
        "id": "ucFVr3Av61mz"
      },
      "source": [
        "### Relative Mobility Ratio"
      ]
    },
    {
      "cell_type": "code",
      "metadata": {
        "id": "cZy2My8R64tI"
      },
      "source": [
        "df_mobility_pandemic['mobility_ratio_relative_7day'] = np.log(df_mobility_pandemic['Number of Trips during Pandemic'].rolling(3).sum() / 3) / np.log(df_mobility_pandemic['Number of Trips during Pandemic'].rolling(7).sum() / 7)\n",
        "df_mobility_pandemic['mobility_ratio_relative_14day'] = np.log(df_mobility_pandemic['Number of Trips during Pandemic'].rolling(3).sum() / 3) / np.log(df_mobility_pandemic['Number of Trips during Pandemic'].rolling(14).sum() / 14)\n",
        "df_mobility_pandemic"
      ],
      "execution_count": null,
      "outputs": []
    },
    {
      "cell_type": "markdown",
      "metadata": {
        "id": "2MRETrgZ6Url"
      },
      "source": [
        "### Graph Mobility Ratio"
      ]
    },
    {
      "cell_type": "code",
      "metadata": {
        "id": "xosu9xav8x-J"
      },
      "source": [
        "mean_mobility_ratio = df_mobility_pandemic.groupby('Date').agg({'mobility_ratio_avg_baseline': 'mean',\n",
        "                                                                'mobility_ratio_corres_baseline': 'mean'})\n",
        "mean_mobility_ratio.plot()\n",
        "plt.title('Average Mobility Ratios with January Baseline in United States')\n",
        "plt.xlabel('Date')\n",
        "plt.ylabel('Mobility Ratio')\n",
        "plt.legend(labels = ['mobility ratio with averaged Jan baseline',\n",
        "                     'mobility ratio with corresonding Jan day baseline'],\n",
        "           loc='upper left', bbox_to_anchor=(0.05, -0.20))\n",
        "plt.show()"
      ],
      "execution_count": null,
      "outputs": []
    },
    {
      "cell_type": "code",
      "metadata": {
        "id": "tO_TIMp_kTj2"
      },
      "source": [
        "mean_mobility_ratio = df_mobility_pandemic.groupby('Date').agg({'mobility_ratio_relative_7day': 'mean',\n",
        "                                                                'mobility_ratio_relative_14day': 'mean'})\n",
        "mean_mobility_ratio.plot()\n",
        "plt.title('Average Relative Mobility Ratios in United States')\n",
        "plt.xlabel('Date')\n",
        "plt.ylabel('Mobility Ratio')\n",
        "plt.legend(labels = ['mobility ratio with 7 day incubation baseline',\n",
        "                     'mobility ratio with 14 day incubation baseline'],\n",
        "           loc='upper left', bbox_to_anchor=(0.05, -0.20))\n",
        "plt.show()"
      ],
      "execution_count": null,
      "outputs": []
    },
    {
      "cell_type": "code",
      "metadata": {
        "id": "BTRM_aagcWbR"
      },
      "source": [
        "df_mobility_april = df_mobility_pandemic[(df_mobility_pandemic['Date'] >= '2020-04-01') & (df_mobility_pandemic['Date'] <= '2020-04-30')]\n",
        "df_mobility_april.to_csv('/content/drive/My Drive/Princeton/Independent Work/mobility/mobility_data_april.csv')"
      ],
      "execution_count": null,
      "outputs": []
    },
    {
      "cell_type": "code",
      "metadata": {
        "id": "R0oNd7GobtUV"
      },
      "source": [
        "df_mobility_december = df_mobility_pandemic[(df_mobility_pandemic['Date'] >= '2020-12-01') & (df_mobility_pandemic['Date'] <= '2020-12-26')]\n",
        "df_mobility_december.to_csv('/content/drive/My Drive/Princeton/Independent Work/mobility/mobility_data_december.csv')"
      ],
      "execution_count": null,
      "outputs": []
    },
    {
      "cell_type": "markdown",
      "metadata": {
        "id": "F_NQjdAXRyq8"
      },
      "source": [
        "# Compute Regression Line Between Mobility Ratio and Case Growth Ratio"
      ]
    },
    {
      "cell_type": "markdown",
      "metadata": {
        "id": "nXbG9Kuw6KY1"
      },
      "source": [
        "## Merge Mobility Ratio and Growth Ratio into One Dataframe"
      ]
    },
    {
      "cell_type": "code",
      "metadata": {
        "id": "NTehM3oLOQPQ"
      },
      "source": [
        "# cut off all entries after earliest 'last date'\n",
        "max_date = min(df_mobility_pandemic['Date'].max(), df_cases['date'].max())\n",
        "print(max_date)\n",
        "\n",
        "df_cases = df_cases[df_cases['date'] <= max_date]\n",
        "df_mobility_pandemic = df_mobility_pandemic[df_mobility_pandemic['Date'] <= max_date]"
      ],
      "execution_count": null,
      "outputs": []
    },
    {
      "cell_type": "code",
      "metadata": {
        "id": "fxOfofWzTZvO"
      },
      "source": [
        "df_mobility_ratio = df_mobility_pandemic[['Date', 'State', 'County', 'mobility_ratio_avg_baseline', 'mobility_ratio_corres_baseline', 'mobility_ratio_relative_7day', 'mobility_ratio_relative_14day']]\n",
        "df_growth_ratio = df_cases[['date', 'state', 'county', 'fips', 'growth_rate_7day', 'growth_rate_14day', 'growth_rate_of_change']]\n",
        "df_regression = df_growth_ratio.merge(df_mobility_ratio, left_on=['date', 'state', 'county'], right_on=['Date', 'State', 'County'])\n",
        "del df_regression['Date']\n",
        "del df_regression['State']\n",
        "del df_regression['County']\n",
        "df_regression = df_regression.dropna(axis='rows')\n",
        "\n",
        "df_regression"
      ],
      "execution_count": null,
      "outputs": []
    },
    {
      "cell_type": "markdown",
      "metadata": {
        "id": "g8Xmc2qR6BHm"
      },
      "source": [
        "### Check that Merge Happened Correctly"
      ]
    },
    {
      "cell_type": "code",
      "metadata": {
        "id": "q4-vm6f_4u0L"
      },
      "source": [
        "df_regression[(df_regression['date'] == '2020-12-26') & (df_regression['state'] == ('California'))].sort_values(by=['county'])"
      ],
      "execution_count": null,
      "outputs": []
    },
    {
      "cell_type": "code",
      "metadata": {
        "id": "OjKpro4z4cmT"
      },
      "source": [
        "df_cases[(df_cases['fips'] == '06037') & (df_cases['date'] >= '2020-12-01') & (df_cases['date'] <= '2020-12-14')]"
      ],
      "execution_count": null,
      "outputs": []
    },
    {
      "cell_type": "code",
      "metadata": {
        "id": "uMyTxBDF5fDO"
      },
      "source": [
        "df_mobility_pandemic[(df_mobility_pandemic['Date'] == '2020-12-26') & (df_mobility_pandemic['State'] == 'California')].sort_values(by=['County'])"
      ],
      "execution_count": null,
      "outputs": []
    },
    {
      "cell_type": "markdown",
      "metadata": {
        "id": "63tjgmvB6F9I"
      },
      "source": [
        "## Graph Case Growth vs. Mobility Ratios"
      ]
    },
    {
      "cell_type": "code",
      "metadata": {
        "id": "IUz6TnBzdc2U"
      },
      "source": [
        "plt.plot(df_regression['mobility_ratio_corres_baseline'].to_numpy(), df_regression['growth_rate_7day'].to_numpy(), 'o')\n",
        "plt.plot(df_regression['mobility_ratio_corres_baseline'].to_numpy(), df_regression['growth_rate_14day'].to_numpy(), 'o')\n",
        "plt.xlabel('Mobility Ratios with Corresonding January Day Baseline')\n",
        "plt.ylabel('COVID-19 Cases Growth Rates')\n",
        "plt.legend(labels = ['case growth rate with 7 day baseline',\n",
        "                     'case growth rate with 14 day baseline'])\n",
        "plt.show()"
      ],
      "execution_count": null,
      "outputs": []
    },
    {
      "cell_type": "code",
      "metadata": {
        "id": "jshbthu3nCeN"
      },
      "source": [
        "plt.plot(df_regression['mobility_ratio_avg_baseline'].to_numpy(), df_regression['growth_rate_7day'].to_numpy(), 'o')\n",
        "plt.plot(df_regression['mobility_ratio_avg_baseline'].to_numpy(), df_regression['growth_rate_14day'].to_numpy(), 'o')\n",
        "plt.title('COVID-19 Cases Growth Rates vs. Mobility Ratios')\n",
        "plt.xlabel('Mobility Ratios with Averaged January Mobility Baseline')\n",
        "plt.ylabel('COVID-19 Cases Growth Rates')\n",
        "plt.legend(labels = ['case growth rate with 7 day baseline',\n",
        "                     'case growth rate with 14 day baseline'])\n",
        "plt.show()"
      ],
      "execution_count": null,
      "outputs": []
    },
    {
      "cell_type": "code",
      "metadata": {
        "id": "l_mtf3gDnVWg"
      },
      "source": [
        "plt.plot(df_regression['mobility_ratio_relative_7day'].to_numpy(), df_regression['growth_rate_7day'].to_numpy(), 'o')\n",
        "plt.plot(df_regression['mobility_ratio_relative_7day'].to_numpy(), df_regression['growth_rate_14day'].to_numpy(), 'o')\n",
        "plt.xlabel('Relative Mobility Ratios')\n",
        "plt.ylabel('COVID-19 Cases Growth Rates')\n",
        "plt.legend(labels = ['case growth rate with 7 day baseline',\n",
        "                     'case growth rate with 14 day baseline'])\n",
        "plt.show()"
      ],
      "execution_count": null,
      "outputs": []
    },
    {
      "cell_type": "code",
      "metadata": {
        "id": "v-7y_RcKQerK"
      },
      "source": [
        "plt.plot(df_regression['mobility_ratio_corres_baseline'].to_numpy(), df_regression['growth_rate_of_change'].to_numpy(), 'o')\n",
        "plt.xlabel('Mobility Ratios to Corresponding January Day Baseline')\n",
        "plt.ylabel('COVID-19 Cases Growth Rates')\n",
        "plt.show()"
      ],
      "execution_count": null,
      "outputs": []
    },
    {
      "cell_type": "markdown",
      "metadata": {
        "id": "cfh3xQfBntjN"
      },
      "source": [
        "## Calculate Regression"
      ]
    },
    {
      "cell_type": "code",
      "metadata": {
        "id": "880BPRPVwwOO"
      },
      "source": [
        "from sklearn.linear_model import LinearRegression\n",
        "from scipy.stats import pearsonr\n",
        "from scipy.stats import describe\n",
        "import matplotlib.pyplot as plt\n",
        "from scipy.stats import linregress"
      ],
      "execution_count": null,
      "outputs": []
    },
    {
      "cell_type": "code",
      "metadata": {
        "id": "B0zBA26DcoGr"
      },
      "source": [
        "# introduce time lag between mobility and covid case data\n",
        "correlations = []\n",
        "\n",
        "# first check against 7 day growth rate\n",
        "for i in range(0, 14):\n",
        "  df_regression['growth_rate_7day'] = df_regression.groupby('fips')['growth_rate_7day'].shift(1)\n",
        "  df_regression = df_regression.dropna(axis='rows')\n",
        "  \n",
        "  result_avg_baseline = linregress(df_regression['mobility_ratio_avg_baseline'].to_numpy(), df_regression['growth_rate_7day'].to_numpy())\n",
        "  result_corres_baseline = linregress(df_regression['mobility_ratio_corres_baseline'].to_numpy(), df_regression['growth_rate_7day'].to_numpy())\n",
        "  result_relative_7day = linregress(df_regression['mobility_ratio_relative_7day'].to_numpy(), df_regression['growth_rate_7day'].to_numpy())\n",
        "  result_relative_14day = linregress(df_regression['mobility_ratio_relative_14day'].to_numpy(), df_regression['growth_rate_7day'].to_numpy())\n",
        "\n",
        "  correlations.append([result_avg_baseline.rvalue, result_corres_baseline.rvalue, result_relative_7day.rvalue, result_relative_14day.rvalue])\n",
        "\n",
        "  print(\"Correlations with time lag \", i)\n",
        "  print(\"  averaged Jan baseline mobility ratio: \", result_avg_baseline.rvalue)\n",
        "  print(\"  corresponding Jan day baseline mobility ratio: \", result_corres_baseline.rvalue)\n",
        "  print(\"  relative with 7 day baseline mobility ratio: \", result_relative_7day.rvalue)\n",
        "  print(\"  relative with 14 day baseline mobility ratio: \", result_relative_14day.rvalue)"
      ],
      "execution_count": null,
      "outputs": []
    },
    {
      "cell_type": "code",
      "metadata": {
        "id": "cyBWeSVSi75-"
      },
      "source": [
        "plt.plot([1, 2, 3, 4, 5, 6, 7, 8, 9, 10, 11, 12, 13, 14], correlations, 'o')\n",
        "plt.title('Correlation between Growth Rate (7 Day) and Mobility Ratio vs. Time Lag')\n",
        "plt.xlabel('Time Lag in Days')\n",
        "plt.ylabel('Correlation')\n",
        "plt.legend(labels = ['mobility ratio with averaged Jan baseline',\n",
        "                     'mobility ratio with corresponding Jan day baseline',\n",
        "                     'relative mobility ratio with 7 day baseline',\n",
        "                     'relative mobility ratio with 14 day baseline'\n",
        "                     ], loc='upper left', bbox_to_anchor=(0.05, -0.15))\n",
        "plt.show()"
      ],
      "execution_count": null,
      "outputs": []
    },
    {
      "cell_type": "code",
      "metadata": {
        "id": "ChadBHVUtJBK"
      },
      "source": [
        "# introduce time lag between mobility and covid case data\n",
        "correlations = []\n",
        "\n",
        "# first check against 14 day growth rate\n",
        "for i in range(0, 14):\n",
        "  df_regression['growth_rate_14day'] = df_regression.groupby('fips')['growth_rate_14day'].shift(1)\n",
        "  df_regression = df_regression.dropna(axis='rows')\n",
        "  \n",
        "  result_avg_baseline = linregress(df_regression['mobility_ratio_avg_baseline'].to_numpy(), df_regression['growth_rate_14day'].to_numpy())\n",
        "  result_corres_baseline = linregress(df_regression['mobility_ratio_corres_baseline'].to_numpy(), df_regression['growth_rate_14day'].to_numpy())\n",
        "  result_relative_7day = linregress(df_regression['mobility_ratio_relative_7day'].to_numpy(), df_regression['growth_rate_14day'].to_numpy())\n",
        "  result_relative_14day = linregress(df_regression['mobility_ratio_relative_14day'].to_numpy(), df_regression['growth_rate_14day'].to_numpy())\n",
        "\n",
        "  correlations.append([result_avg_baseline.rvalue, result_corres_baseline.rvalue, result_relative_7day.rvalue, result_relative_14day.rvalue])\n",
        "\n",
        "  print(\"Correlations with time lag \", i)\n",
        "  print(\"  averaged Jan baseline mobility ratio: \", result_avg_baseline.rvalue)\n",
        "  print(\"  corresponding Jan day baseline mobility ratio: \", result_corres_baseline.rvalue)\n",
        "  print(\"  relative with 7 day baseline mobility ratio: \", result_relative_7day.rvalue)\n",
        "  print(\"  relative with 14 day baseline mobility ratio: \", result_relative_14day.rvalue)"
      ],
      "execution_count": null,
      "outputs": []
    },
    {
      "cell_type": "code",
      "metadata": {
        "id": "nbg4O66xoWIU"
      },
      "source": [
        "plt.plot([1, 2, 3, 4, 5, 6, 7, 8, 9, 10, 11, 12, 13, 14], correlations, 'o')\n",
        "plt.title('Correlation between Growth Rate (14 Day) and Mobility Ratio vs. Time Lag')\n",
        "plt.xlabel('Time Lag in Days')\n",
        "plt.ylabel('Correlation')\n",
        "plt.legend(labels = ['mobility ratio with averaged Jan baseline',\n",
        "                     'mobility ratio with corresponding Jan day baseline',\n",
        "                     'relative mobility ratio with 7 day baseline',\n",
        "                     'relative mobility ratio with 14 day baseline'\n",
        "                     ], loc='upper left', bbox_to_anchor=(1.05, 1))\n",
        "plt.show()"
      ],
      "execution_count": null,
      "outputs": []
    },
    {
      "cell_type": "code",
      "metadata": {
        "id": "fXy6tX0gPzqk"
      },
      "source": [
        "# introduce time lag between mobility and covid case data\n",
        "correlations = []\n",
        "\n",
        "# first check against 14 day growth rate\n",
        "for i in range(0, 14):\n",
        "  df_regression['growth_rate_of_change'] = df_regression.groupby('fips')['growth_rate_of_change'].shift(1)\n",
        "  df_regression = df_regression.dropna(axis='rows')\n",
        "  \n",
        "  result_avg_baseline = linregress(df_regression['mobility_ratio_avg_baseline'].to_numpy(), df_regression['growth_rate_of_change'].to_numpy())\n",
        "  result_corres_baseline = linregress(df_regression['mobility_ratio_corres_baseline'].to_numpy(), df_regression['growth_rate_of_change'].to_numpy())\n",
        "  result_relative_7day = linregress(df_regression['mobility_ratio_relative_7day'].to_numpy(), df_regression['growth_rate_of_change'].to_numpy())\n",
        "  result_relative_14day = linregress(df_regression['mobility_ratio_relative_14day'].to_numpy(), df_regression['growth_rate_of_change'].to_numpy())\n",
        "\n",
        "  correlations.append([result_avg_baseline.rvalue, result_corres_baseline.rvalue, result_relative_7day.rvalue, result_relative_14day.rvalue])\n",
        "\n",
        "  print(\"Correlations with time lag \", i)\n",
        "  print(\"  averaged Jan baseline mobility ratio: \", result_avg_baseline.rvalue)\n",
        "  print(\"  corresponding Jan day baseline mobility ratio: \", result_corres_baseline.rvalue)\n",
        "  print(\"  relative with 7 day baseline mobility ratio: \", result_relative_7day.rvalue)\n",
        "  print(\"  relative with 14 day baseline mobility ratio: \", result_relative_14day.rvalue)"
      ],
      "execution_count": null,
      "outputs": []
    },
    {
      "cell_type": "code",
      "metadata": {
        "id": "ps_keGd1QTDS"
      },
      "source": [
        "plt.plot([1, 2, 3, 4, 5, 6, 7, 8, 9, 10, 11, 12, 13, 14], correlations, 'o')\n",
        "plt.title('Correlation between Growth Rate of Change and Mobility Ratio vs. Time Lag')\n",
        "plt.xlabel('Time Lag in Days')\n",
        "plt.ylabel('Correlation')\n",
        "plt.legend(labels = ['mobility ratio with averaged Jan baseline',\n",
        "                     'mobility ratio with corresponding Jan day baseline',\n",
        "                     'relative mobility ratio with 7 day baseline',\n",
        "                     'relative mobility ratio with 14 day baseline'\n",
        "                     ], loc='upper left', bbox_to_anchor=(0.05, -0.15))\n",
        "plt.show()"
      ],
      "execution_count": null,
      "outputs": []
    }
  ]
}